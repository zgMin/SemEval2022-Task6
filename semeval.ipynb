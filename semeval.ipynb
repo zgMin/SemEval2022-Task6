{
 "cells": [
  {
   "cell_type": "code",
   "execution_count": 1,
   "id": "1c6531d4",
   "metadata": {
    "execution": {
     "iopub.execute_input": "2022-01-31T04:46:32.815472Z",
     "iopub.status.busy": "2022-01-31T04:46:32.814298Z",
     "iopub.status.idle": "2022-01-31T04:46:32.818352Z",
     "shell.execute_reply": "2022-01-31T04:46:32.817655Z",
     "shell.execute_reply.started": "2022-01-31T04:23:38.332013Z"
    },
    "papermill": {
     "duration": 0.120925,
     "end_time": "2022-01-31T04:46:32.818504",
     "exception": false,
     "start_time": "2022-01-31T04:46:32.697579",
     "status": "completed"
    },
    "tags": []
   },
   "outputs": [],
   "source": [
    "GLUE_TASKS = [\"cola\", \"mnli\", \"mnli-mm\", \"mrpc\", \"qnli\", \"qqp\", \"rte\", \"sst2\", \"stsb\", \"wnli\"]"
   ]
  },
  {
   "cell_type": "code",
   "execution_count": 2,
   "id": "670a6ca1",
   "metadata": {
    "execution": {
     "iopub.execute_input": "2022-01-31T04:46:33.031067Z",
     "iopub.status.busy": "2022-01-31T04:46:33.029401Z",
     "iopub.status.idle": "2022-01-31T04:46:33.031711Z",
     "shell.execute_reply": "2022-01-31T04:46:33.032223Z",
     "shell.execute_reply.started": "2022-01-31T04:23:38.359250Z"
    },
    "papermill": {
     "duration": 0.110396,
     "end_time": "2022-01-31T04:46:33.032385",
     "exception": false,
     "start_time": "2022-01-31T04:46:32.921989",
     "status": "completed"
    },
    "tags": []
   },
   "outputs": [],
   "source": [
    "task = \"sst2\"\n",
    "model_checkpoint = \"bert-base-multilingual-uncased\"\n",
    "batch_size = 16"
   ]
  },
  {
   "cell_type": "code",
   "execution_count": 3,
   "id": "27edab0e",
   "metadata": {
    "execution": {
     "iopub.execute_input": "2022-01-31T04:46:33.241336Z",
     "iopub.status.busy": "2022-01-31T04:46:33.240587Z",
     "iopub.status.idle": "2022-01-31T04:46:34.895746Z",
     "shell.execute_reply": "2022-01-31T04:46:34.895320Z",
     "shell.execute_reply.started": "2022-01-31T04:23:38.364671Z"
    },
    "papermill": {
     "duration": 1.761489,
     "end_time": "2022-01-31T04:46:34.895876",
     "exception": false,
     "start_time": "2022-01-31T04:46:33.134387",
     "status": "completed"
    },
    "tags": []
   },
   "outputs": [
    {
     "name": "stdout",
     "output_type": "stream",
     "text": [
      "4.12.5\n"
     ]
    }
   ],
   "source": [
    "import transformers\n",
    "import torch\n",
    "from torch import nn\n",
    "print(transformers.__version__)"
   ]
  },
  {
   "cell_type": "code",
   "execution_count": 4,
   "id": "429c9dbc",
   "metadata": {
    "execution": {
     "iopub.execute_input": "2022-01-31T04:46:35.093602Z",
     "iopub.status.busy": "2022-01-31T04:46:35.092874Z",
     "iopub.status.idle": "2022-01-31T04:46:38.160390Z",
     "shell.execute_reply": "2022-01-31T04:46:38.159826Z",
     "shell.execute_reply.started": "2022-01-31T04:23:39.805654Z"
    },
    "papermill": {
     "duration": 3.168442,
     "end_time": "2022-01-31T04:46:38.160638",
     "exception": true,
     "start_time": "2022-01-31T04:46:34.992196",
     "status": "failed"
    },
    "tags": []
   },
   "outputs": [
    {
     "name": "stderr",
     "output_type": "stream",
     "text": [
      "\u001b[34m\u001b[1mwandb\u001b[0m: You can find your API key in your browser here: https://wandb.ai/authorize\n",
      "Traceback (most recent call last):\n",
      "  File \"/opt/conda/lib/python3.7/site-packages/wandb/sdk/wandb_init.py\", line 914, in init\n",
      "    wi.setup(kwargs)\n",
      "  File \"/opt/conda/lib/python3.7/site-packages/wandb/sdk/wandb_init.py\", line 185, in setup\n",
      "    _silent=(settings._quiet or settings._silent) is True,\n",
      "  File \"/opt/conda/lib/python3.7/site-packages/wandb/sdk/wandb_login.py\", line 274, in _login\n",
      "    wlogin.prompt_api_key()\n",
      "  File \"/opt/conda/lib/python3.7/site-packages/wandb/sdk/wandb_login.py\", line 202, in prompt_api_key\n",
      "    key, status = self._prompt_api_key()\n",
      "  File \"/opt/conda/lib/python3.7/site-packages/wandb/sdk/wandb_login.py\", line 186, in _prompt_api_key\n",
      "    no_create=self._settings.force if self._settings else None,\n",
      "  File \"/opt/conda/lib/python3.7/site-packages/wandb/sdk/lib/apikey.py\", line 126, in prompt_api_key\n",
      "    key = input_callback(api_ask).strip()\n",
      "  File \"/opt/conda/lib/python3.7/site-packages/ipykernel/kernelbase.py\", line 978, in getpass\n",
      "    \"getpass was called, but this frontend does not support input requests.\"\n",
      "IPython.core.error.StdinNotImplementedError: getpass was called, but this frontend does not support input requests.\n",
      "\u001b[34m\u001b[1mwandb\u001b[0m: \u001b[32m\u001b[41mERROR\u001b[0m Abnormal program exit\n"
     ]
    },
    {
     "ename": "Exception",
     "evalue": "problem",
     "output_type": "error",
     "traceback": [
      "\u001b[0;31m---------------------------------------------------------------------------\u001b[0m",
      "\u001b[0;31mStdinNotImplementedError\u001b[0m                  Traceback (most recent call last)",
      "\u001b[0;32m/opt/conda/lib/python3.7/site-packages/wandb/sdk/wandb_init.py\u001b[0m in \u001b[0;36minit\u001b[0;34m(job_type, dir, config, project, entity, reinit, tags, group, name, notes, magic, config_exclude_keys, config_include_keys, anonymous, mode, allow_val_change, resume, force, tensorboard, sync_tensorboard, monitor_gym, save_code, id, settings)\u001b[0m\n\u001b[1;32m    913\u001b[0m         \u001b[0mwi\u001b[0m \u001b[0;34m=\u001b[0m \u001b[0m_WandbInit\u001b[0m\u001b[0;34m(\u001b[0m\u001b[0;34m)\u001b[0m\u001b[0;34m\u001b[0m\u001b[0;34m\u001b[0m\u001b[0m\n\u001b[0;32m--> 914\u001b[0;31m         \u001b[0mwi\u001b[0m\u001b[0;34m.\u001b[0m\u001b[0msetup\u001b[0m\u001b[0;34m(\u001b[0m\u001b[0mkwargs\u001b[0m\u001b[0;34m)\u001b[0m\u001b[0;34m\u001b[0m\u001b[0;34m\u001b[0m\u001b[0m\n\u001b[0m\u001b[1;32m    915\u001b[0m         \u001b[0mexcept_exit\u001b[0m \u001b[0;34m=\u001b[0m \u001b[0mwi\u001b[0m\u001b[0;34m.\u001b[0m\u001b[0msettings\u001b[0m\u001b[0;34m.\u001b[0m\u001b[0m_except_exit\u001b[0m\u001b[0;34m\u001b[0m\u001b[0;34m\u001b[0m\u001b[0m\n",
      "\u001b[0;32m/opt/conda/lib/python3.7/site-packages/wandb/sdk/wandb_init.py\u001b[0m in \u001b[0;36msetup\u001b[0;34m(self, kwargs)\u001b[0m\n\u001b[1;32m    184\u001b[0m                 \u001b[0m_disable_warning\u001b[0m\u001b[0;34m=\u001b[0m\u001b[0;32mTrue\u001b[0m\u001b[0;34m,\u001b[0m\u001b[0;34m\u001b[0m\u001b[0;34m\u001b[0m\u001b[0m\n\u001b[0;32m--> 185\u001b[0;31m                 \u001b[0m_silent\u001b[0m\u001b[0;34m=\u001b[0m\u001b[0;34m(\u001b[0m\u001b[0msettings\u001b[0m\u001b[0;34m.\u001b[0m\u001b[0m_quiet\u001b[0m \u001b[0;32mor\u001b[0m \u001b[0msettings\u001b[0m\u001b[0;34m.\u001b[0m\u001b[0m_silent\u001b[0m\u001b[0;34m)\u001b[0m \u001b[0;32mis\u001b[0m \u001b[0;32mTrue\u001b[0m\u001b[0;34m,\u001b[0m\u001b[0;34m\u001b[0m\u001b[0;34m\u001b[0m\u001b[0m\n\u001b[0m\u001b[1;32m    186\u001b[0m             )\n",
      "\u001b[0;32m/opt/conda/lib/python3.7/site-packages/wandb/sdk/wandb_login.py\u001b[0m in \u001b[0;36m_login\u001b[0;34m(anonymous, key, relogin, host, force, timeout, _backend, _silent, _disable_warning)\u001b[0m\n\u001b[1;32m    273\u001b[0m     \u001b[0;32mif\u001b[0m \u001b[0;32mnot\u001b[0m \u001b[0mkey\u001b[0m\u001b[0;34m:\u001b[0m\u001b[0;34m\u001b[0m\u001b[0;34m\u001b[0m\u001b[0m\n\u001b[0;32m--> 274\u001b[0;31m         \u001b[0mwlogin\u001b[0m\u001b[0;34m.\u001b[0m\u001b[0mprompt_api_key\u001b[0m\u001b[0;34m(\u001b[0m\u001b[0;34m)\u001b[0m\u001b[0;34m\u001b[0m\u001b[0;34m\u001b[0m\u001b[0m\n\u001b[0m\u001b[1;32m    275\u001b[0m \u001b[0;34m\u001b[0m\u001b[0m\n",
      "\u001b[0;32m/opt/conda/lib/python3.7/site-packages/wandb/sdk/wandb_login.py\u001b[0m in \u001b[0;36mprompt_api_key\u001b[0;34m(self)\u001b[0m\n\u001b[1;32m    201\u001b[0m     \u001b[0;32mdef\u001b[0m \u001b[0mprompt_api_key\u001b[0m\u001b[0;34m(\u001b[0m\u001b[0mself\u001b[0m\u001b[0;34m)\u001b[0m\u001b[0;34m:\u001b[0m\u001b[0;34m\u001b[0m\u001b[0;34m\u001b[0m\u001b[0m\n\u001b[0;32m--> 202\u001b[0;31m         \u001b[0mkey\u001b[0m\u001b[0;34m,\u001b[0m \u001b[0mstatus\u001b[0m \u001b[0;34m=\u001b[0m \u001b[0mself\u001b[0m\u001b[0;34m.\u001b[0m\u001b[0m_prompt_api_key\u001b[0m\u001b[0;34m(\u001b[0m\u001b[0;34m)\u001b[0m\u001b[0;34m\u001b[0m\u001b[0;34m\u001b[0m\u001b[0m\n\u001b[0m\u001b[1;32m    203\u001b[0m         \u001b[0;32mif\u001b[0m \u001b[0mstatus\u001b[0m \u001b[0;34m==\u001b[0m \u001b[0mApiKeyStatus\u001b[0m\u001b[0;34m.\u001b[0m\u001b[0mNOTTY\u001b[0m\u001b[0;34m:\u001b[0m\u001b[0;34m\u001b[0m\u001b[0;34m\u001b[0m\u001b[0m\n",
      "\u001b[0;32m/opt/conda/lib/python3.7/site-packages/wandb/sdk/wandb_login.py\u001b[0m in \u001b[0;36m_prompt_api_key\u001b[0;34m(self)\u001b[0m\n\u001b[1;32m    185\u001b[0m                     \u001b[0mno_offline\u001b[0m\u001b[0;34m=\u001b[0m\u001b[0mself\u001b[0m\u001b[0;34m.\u001b[0m\u001b[0m_settings\u001b[0m\u001b[0;34m.\u001b[0m\u001b[0mforce\u001b[0m \u001b[0;32mif\u001b[0m \u001b[0mself\u001b[0m\u001b[0;34m.\u001b[0m\u001b[0m_settings\u001b[0m \u001b[0;32melse\u001b[0m \u001b[0;32mNone\u001b[0m\u001b[0;34m,\u001b[0m\u001b[0;34m\u001b[0m\u001b[0;34m\u001b[0m\u001b[0m\n\u001b[0;32m--> 186\u001b[0;31m                     \u001b[0mno_create\u001b[0m\u001b[0;34m=\u001b[0m\u001b[0mself\u001b[0m\u001b[0;34m.\u001b[0m\u001b[0m_settings\u001b[0m\u001b[0;34m.\u001b[0m\u001b[0mforce\u001b[0m \u001b[0;32mif\u001b[0m \u001b[0mself\u001b[0m\u001b[0;34m.\u001b[0m\u001b[0m_settings\u001b[0m \u001b[0;32melse\u001b[0m \u001b[0;32mNone\u001b[0m\u001b[0;34m,\u001b[0m\u001b[0;34m\u001b[0m\u001b[0;34m\u001b[0m\u001b[0m\n\u001b[0m\u001b[1;32m    187\u001b[0m                 )\n",
      "\u001b[0;32m/opt/conda/lib/python3.7/site-packages/wandb/sdk/lib/apikey.py\u001b[0m in \u001b[0;36mprompt_api_key\u001b[0;34m(settings, api, input_callback, browser_callback, no_offline, no_create, local)\u001b[0m\n\u001b[1;32m    125\u001b[0m             )\n\u001b[0;32m--> 126\u001b[0;31m             \u001b[0mkey\u001b[0m \u001b[0;34m=\u001b[0m \u001b[0minput_callback\u001b[0m\u001b[0;34m(\u001b[0m\u001b[0mapi_ask\u001b[0m\u001b[0;34m)\u001b[0m\u001b[0;34m.\u001b[0m\u001b[0mstrip\u001b[0m\u001b[0;34m(\u001b[0m\u001b[0;34m)\u001b[0m\u001b[0;34m\u001b[0m\u001b[0;34m\u001b[0m\u001b[0m\n\u001b[0m\u001b[1;32m    127\u001b[0m         \u001b[0mwrite_key\u001b[0m\u001b[0;34m(\u001b[0m\u001b[0msettings\u001b[0m\u001b[0;34m,\u001b[0m \u001b[0mkey\u001b[0m\u001b[0;34m,\u001b[0m \u001b[0mapi\u001b[0m\u001b[0;34m=\u001b[0m\u001b[0mapi\u001b[0m\u001b[0;34m)\u001b[0m\u001b[0;34m\u001b[0m\u001b[0;34m\u001b[0m\u001b[0m\n",
      "\u001b[0;32m/opt/conda/lib/python3.7/site-packages/ipykernel/kernelbase.py\u001b[0m in \u001b[0;36mgetpass\u001b[0;34m(self, prompt, stream)\u001b[0m\n\u001b[1;32m    977\u001b[0m             raise StdinNotImplementedError(\n\u001b[0;32m--> 978\u001b[0;31m                 \u001b[0;34m\"getpass was called, but this frontend does not support input requests.\"\u001b[0m\u001b[0;34m\u001b[0m\u001b[0;34m\u001b[0m\u001b[0m\n\u001b[0m\u001b[1;32m    979\u001b[0m             )\n",
      "\u001b[0;31mStdinNotImplementedError\u001b[0m: getpass was called, but this frontend does not support input requests.",
      "\nThe above exception was the direct cause of the following exception:\n",
      "\u001b[0;31mException\u001b[0m                                 Traceback (most recent call last)",
      "\u001b[0;32m/tmp/ipykernel_26/1315181138.py\u001b[0m in \u001b[0;36m<module>\u001b[0;34m\u001b[0m\n\u001b[1;32m      1\u001b[0m \u001b[0;32mimport\u001b[0m \u001b[0mwandb\u001b[0m\u001b[0;34m\u001b[0m\u001b[0;34m\u001b[0m\u001b[0m\n\u001b[1;32m      2\u001b[0m \u001b[0;31m#0a147497e5856fdc2538a1adbb9935ad0857277b\u001b[0m\u001b[0;34m\u001b[0m\u001b[0;34m\u001b[0m\u001b[0;34m\u001b[0m\u001b[0m\n\u001b[0;32m----> 3\u001b[0;31m \u001b[0mwandb\u001b[0m\u001b[0;34m.\u001b[0m\u001b[0minit\u001b[0m\u001b[0;34m(\u001b[0m\u001b[0;34m)\u001b[0m\u001b[0;34m\u001b[0m\u001b[0;34m\u001b[0m\u001b[0m\n\u001b[0m",
      "\u001b[0;32m/opt/conda/lib/python3.7/site-packages/wandb/sdk/wandb_init.py\u001b[0m in \u001b[0;36minit\u001b[0;34m(job_type, dir, config, project, entity, reinit, tags, group, name, notes, magic, config_exclude_keys, config_include_keys, anonymous, mode, allow_val_change, resume, force, tensorboard, sync_tensorboard, monitor_gym, save_code, id, settings)\u001b[0m\n\u001b[1;32m    953\u001b[0m             \u001b[0;32mif\u001b[0m \u001b[0mexcept_exit\u001b[0m\u001b[0;34m:\u001b[0m\u001b[0;34m\u001b[0m\u001b[0;34m\u001b[0m\u001b[0m\n\u001b[1;32m    954\u001b[0m                 \u001b[0mos\u001b[0m\u001b[0;34m.\u001b[0m\u001b[0m_exit\u001b[0m\u001b[0;34m(\u001b[0m\u001b[0;34m-\u001b[0m\u001b[0;36m1\u001b[0m\u001b[0;34m)\u001b[0m\u001b[0;34m\u001b[0m\u001b[0;34m\u001b[0m\u001b[0m\n\u001b[0;32m--> 955\u001b[0;31m             \u001b[0msix\u001b[0m\u001b[0;34m.\u001b[0m\u001b[0mraise_from\u001b[0m\u001b[0;34m(\u001b[0m\u001b[0mException\u001b[0m\u001b[0;34m(\u001b[0m\u001b[0;34m\"problem\"\u001b[0m\u001b[0;34m)\u001b[0m\u001b[0;34m,\u001b[0m \u001b[0merror_seen\u001b[0m\u001b[0;34m)\u001b[0m\u001b[0;34m\u001b[0m\u001b[0;34m\u001b[0m\u001b[0m\n\u001b[0m\u001b[1;32m    956\u001b[0m     \u001b[0;32mreturn\u001b[0m \u001b[0mrun\u001b[0m\u001b[0;34m\u001b[0m\u001b[0;34m\u001b[0m\u001b[0m\n",
      "\u001b[0;32m/opt/conda/lib/python3.7/site-packages/six.py\u001b[0m in \u001b[0;36mraise_from\u001b[0;34m(value, from_value)\u001b[0m\n",
      "\u001b[0;31mException\u001b[0m: problem"
     ]
    }
   ],
   "source": [
    "import wandb\n",
    "#0a147497e5856fdc2538a1adbb9935ad0857277b\n",
    "wandb.init()"
   ]
  },
  {
   "cell_type": "markdown",
   "id": "9f3759dd",
   "metadata": {
    "papermill": {
     "duration": null,
     "end_time": null,
     "exception": null,
     "start_time": null,
     "status": "pending"
    },
    "tags": []
   },
   "source": [
    "随机显示"
   ]
  },
  {
   "cell_type": "code",
   "execution_count": null,
   "id": "a5602ad9",
   "metadata": {
    "execution": {
     "iopub.execute_input": "2022-01-31T04:24:26.843549Z",
     "iopub.status.busy": "2022-01-31T04:24:26.842986Z",
     "iopub.status.idle": "2022-01-31T04:24:27.173297Z",
     "shell.execute_reply": "2022-01-31T04:24:27.172601Z",
     "shell.execute_reply.started": "2022-01-31T04:24:26.843507Z"
    },
    "papermill": {
     "duration": null,
     "end_time": null,
     "exception": null,
     "start_time": null,
     "status": "pending"
    },
    "tags": []
   },
   "outputs": [],
   "source": [
    "import datasets\n",
    "import random\n",
    "import pandas as pd\n",
    "from IPython.display import display, HTML\n",
    "\n",
    "def show_random_elements(dataset, num_examples=10):\n",
    "    assert num_examples <= len(dataset), \"Can't pick more elements than there are in the dataset.\"\n",
    "    picks = []\n",
    "    for _ in range(num_examples):\n",
    "        pick = random.randint(0, len(dataset)-1)\n",
    "        while pick in picks:\n",
    "            pick = random.randint(0, len(dataset)-1)\n",
    "        picks.append(pick)\n",
    "    \n",
    "    df = pd.DataFrame(dataset[picks])\n",
    "    for column, typ in dataset.features.items():\n",
    "        if isinstance(typ, datasets.ClassLabel):\n",
    "            df[column] = df[column].transform(lambda i: typ.names[i])\n",
    "    display(HTML(df.to_html()))"
   ]
  },
  {
   "cell_type": "markdown",
   "id": "61fa492b",
   "metadata": {
    "papermill": {
     "duration": null,
     "end_time": null,
     "exception": null,
     "start_time": null,
     "status": "pending"
    },
    "tags": []
   },
   "source": [
    "加载分词器"
   ]
  },
  {
   "cell_type": "code",
   "execution_count": null,
   "id": "84db523b",
   "metadata": {
    "execution": {
     "iopub.execute_input": "2022-01-31T04:24:27.174795Z",
     "iopub.status.busy": "2022-01-31T04:24:27.174572Z",
     "iopub.status.idle": "2022-01-31T04:24:27.180632Z",
     "shell.execute_reply": "2022-01-31T04:24:27.179968Z",
     "shell.execute_reply.started": "2022-01-31T04:24:27.174764Z"
    },
    "papermill": {
     "duration": null,
     "end_time": null,
     "exception": null,
     "start_time": null,
     "status": "pending"
    },
    "tags": []
   },
   "outputs": [],
   "source": [
    "task_to_keys = {\n",
    "    \"cola\": (\"sentence\", None),\n",
    "    \"mnli\": (\"premise\", \"hypothesis\"),\n",
    "    \"mnli-mm\": (\"premise\", \"hypothesis\"),\n",
    "    \"mrpc\": (\"sentence1\", \"sentence2\"),\n",
    "    \"qnli\": (\"question\", \"sentence\"),\n",
    "    \"qqp\": (\"question1\", \"question2\"),\n",
    "    \"rte\": (\"sentence1\", \"sentence2\"),\n",
    "    \"sst2\": (\"sentence\", None),\n",
    "    \"stsb\": (\"sentence1\", \"sentence2\"),\n",
    "    \"wnli\": (\"sentence1\", \"sentence2\"),\n",
    "}"
   ]
  },
  {
   "cell_type": "code",
   "execution_count": null,
   "id": "81204e66",
   "metadata": {
    "execution": {
     "iopub.execute_input": "2022-01-31T04:24:27.182867Z",
     "iopub.status.busy": "2022-01-31T04:24:27.182442Z",
     "iopub.status.idle": "2022-01-31T04:24:37.430856Z",
     "shell.execute_reply": "2022-01-31T04:24:37.430115Z",
     "shell.execute_reply.started": "2022-01-31T04:24:27.182832Z"
    },
    "papermill": {
     "duration": null,
     "end_time": null,
     "exception": null,
     "start_time": null,
     "status": "pending"
    },
    "tags": []
   },
   "outputs": [],
   "source": [
    "from transformers import AutoTokenizer\n",
    "    \n",
    "tokenizer = AutoTokenizer.from_pretrained(model_checkpoint, use_fast=True)\n",
    "\n",
    "def preprocess_function(examples):\n",
    "    if sentence2_key is None:\n",
    "        return tokenizer(examples[sentence1_key],max_length = 100,pad_to_max_length = True,)\n",
    "    return tokenizer(examples[sentence1_key], examples[sentence2_key], max_length = 100,pad_to_max_length = True, )"
   ]
  },
  {
   "cell_type": "markdown",
   "id": "16e1c61c",
   "metadata": {
    "papermill": {
     "duration": null,
     "end_time": null,
     "exception": null,
     "start_time": null,
     "status": "pending"
    },
    "tags": []
   },
   "source": [
    "# Loading the dataset"
   ]
  },
  {
   "cell_type": "code",
   "execution_count": null,
   "id": "33577662",
   "metadata": {
    "execution": {
     "iopub.execute_input": "2022-01-31T04:24:37.435425Z",
     "iopub.status.busy": "2022-01-31T04:24:37.435040Z",
     "iopub.status.idle": "2022-01-31T04:24:37.504879Z",
     "shell.execute_reply": "2022-01-31T04:24:37.504090Z",
     "shell.execute_reply.started": "2022-01-31T04:24:37.435382Z"
    },
    "papermill": {
     "duration": null,
     "end_time": null,
     "exception": null,
     "start_time": null,
     "status": "pending"
    },
    "tags": []
   },
   "outputs": [],
   "source": [
    "import pandas as pd\n",
    "# Read data from files \n",
    "En_data = pd.read_csv( \"../input/2021-semeval-task6/train.En.csv\", header=0)\n",
    "print(En_data.shape)\n",
    "# Read data from files \n",
    "Ar_data = pd.read_csv( \"../input/2021-semeval-task6/train.Ar.csv\", header=0)\n",
    "print(Ar_data.shape)"
   ]
  },
  {
   "cell_type": "markdown",
   "id": "e32d86ff",
   "metadata": {
    "papermill": {
     "duration": null,
     "end_time": null,
     "exception": null,
     "start_time": null,
     "status": "pending"
    },
    "tags": []
   },
   "source": [
    "处理文本"
   ]
  },
  {
   "cell_type": "code",
   "execution_count": null,
   "id": "11f167a2",
   "metadata": {
    "execution": {
     "iopub.execute_input": "2022-01-31T04:24:37.507071Z",
     "iopub.status.busy": "2022-01-31T04:24:37.506822Z",
     "iopub.status.idle": "2022-01-31T04:24:37.513790Z",
     "shell.execute_reply": "2022-01-31T04:24:37.512664Z",
     "shell.execute_reply.started": "2022-01-31T04:24:37.507038Z"
    },
    "papermill": {
     "duration": null,
     "end_time": null,
     "exception": null,
     "start_time": null,
     "status": "pending"
    },
    "tags": []
   },
   "outputs": [],
   "source": [
    "import re\n",
    "def clearTextFunc(text):\n",
    "    clear_text = \" \".join(text.split())   # 去除回车和换行符\n",
    "    clear_text = re.sub(r'http://[a-zA-Z0-9.?/&=:]*',\" \",  clear_text)   # 去除URL\n",
    "    clear_text = re.sub(r'https://[a-zA-Z0-9.?/&=:]*',\" \",  clear_text)   # 去除URL\n",
    "    clear_text = re.sub(r'@[a-zA-Z0-9.?/&=:]*',\" \",  clear_text)   # 去除@\n",
    "    clear_text = re.sub(r'/s',\" \",  clear_text)   # 去除/s\n",
    "    clear_text = re.sub(r'/j',\" \",  clear_text)   # 去除/j\n",
    "\n",
    "    clear_text  = clear_text.lower()\n",
    "    \n",
    "    return(clear_text)"
   ]
  },
  {
   "cell_type": "code",
   "execution_count": null,
   "id": "0f69d995",
   "metadata": {
    "execution": {
     "iopub.execute_input": "2022-01-31T04:24:37.519370Z",
     "iopub.status.busy": "2022-01-31T04:24:37.517029Z",
     "iopub.status.idle": "2022-01-31T04:24:37.526396Z",
     "shell.execute_reply": "2022-01-31T04:24:37.525655Z",
     "shell.execute_reply.started": "2022-01-31T04:24:37.519335Z"
    },
    "papermill": {
     "duration": null,
     "end_time": null,
     "exception": null,
     "start_time": null,
     "status": "pending"
    },
    "tags": []
   },
   "outputs": [],
   "source": [
    "def clearTexts(data,pos='tweet'):\n",
    "    # Get the number of Texts based on the dataframe column size\n",
    "    global num_Texts\n",
    "    num_Texts = data[pos].size\n",
    "    # Initialize an empty list to hold the clean Texts\n",
    "    print(\"Cleaning and parsing the training set Texts...\\n\")\n",
    "    # Loop over each Text; create an index i that goes from 0 to the length# of the Text list \n",
    "    for i in range( 0, num_Texts ):\n",
    "        # If the index is evenly divisible by 1000, print a message\n",
    "        if( (i+1)%1000 == 0 ):\n",
    "            print(\"Text %d of %d\\n\" % ( i+1, num_Texts ))   \n",
    "        # Call our function for each one, and add the result to the list of    # clean Texts\n",
    "        if(str(data[pos][i])!=\"nan\"):\n",
    "            clean_train_Texts.append( clearTextFunc( data[pos][i] ) )\n",
    "        else:\n",
    "            clean_train_Texts.append( clearTextFunc(\"\" ) )"
   ]
  },
  {
   "cell_type": "code",
   "execution_count": null,
   "id": "17258b7a",
   "metadata": {
    "execution": {
     "iopub.execute_input": "2022-01-31T04:24:37.528269Z",
     "iopub.status.busy": "2022-01-31T04:24:37.527849Z",
     "iopub.status.idle": "2022-01-31T04:24:37.691942Z",
     "shell.execute_reply": "2022-01-31T04:24:37.691252Z",
     "shell.execute_reply.started": "2022-01-31T04:24:37.528231Z"
    },
    "papermill": {
     "duration": null,
     "end_time": null,
     "exception": null,
     "start_time": null,
     "status": "pending"
    },
    "tags": []
   },
   "outputs": [],
   "source": [
    "clean_train_Texts = []\n",
    "num_Texts = 0\n",
    "clearTexts(En_data)\n",
    "clean_train_Texts_En = clean_train_Texts\n",
    "num_Texts_En = num_Texts\n",
    "\n",
    "clean_train_Texts = []\n",
    "num_Texts = 0\n",
    "clearTexts(Ar_data)\n",
    "clean_train_Texts_Ar = clean_train_Texts\n",
    "num_Texts_Ar = num_Texts"
   ]
  },
  {
   "cell_type": "markdown",
   "id": "1798d4a4",
   "metadata": {
    "papermill": {
     "duration": null,
     "end_time": null,
     "exception": null,
     "start_time": null,
     "status": "pending"
    },
    "tags": []
   },
   "source": [
    "# Task A"
   ]
  },
  {
   "cell_type": "markdown",
   "id": "1e035f2e",
   "metadata": {
    "papermill": {
     "duration": null,
     "end_time": null,
     "exception": null,
     "start_time": null,
     "status": "pending"
    },
    "tags": []
   },
   "source": [
    "## 处理标签"
   ]
  },
  {
   "cell_type": "code",
   "execution_count": null,
   "id": "32dba3cb",
   "metadata": {
    "execution": {
     "iopub.execute_input": "2022-01-31T04:24:37.693290Z",
     "iopub.status.busy": "2022-01-31T04:24:37.693063Z",
     "iopub.status.idle": "2022-01-31T04:24:37.702847Z",
     "shell.execute_reply": "2022-01-31T04:24:37.702001Z",
     "shell.execute_reply.started": "2022-01-31T04:24:37.693255Z"
    },
    "papermill": {
     "duration": null,
     "end_time": null,
     "exception": null,
     "start_time": null,
     "status": "pending"
    },
    "tags": []
   },
   "outputs": [],
   "source": [
    "import numpy as np\n",
    "import torch\n",
    "\n",
    "label_En = En_data['sarcastic']\n",
    "label_En=np.array(label_En)\n",
    "label_En = label_En.reshape(num_Texts_En,1)\n",
    "print(label_En.shape)\n",
    "\n",
    "\n",
    "label_Ar = Ar_data['sarcastic']\n",
    "label_Ar=np.array(label_Ar)\n",
    "label_Ar = label_Ar.reshape(num_Texts_Ar,1)\n",
    "print(label_Ar.shape)"
   ]
  },
  {
   "cell_type": "markdown",
   "id": "7ff8187a",
   "metadata": {
    "papermill": {
     "duration": null,
     "end_time": null,
     "exception": null,
     "start_time": null,
     "status": "pending"
    },
    "tags": []
   },
   "source": [
    "## 划分数据集"
   ]
  },
  {
   "cell_type": "code",
   "execution_count": null,
   "id": "2a6e75ec",
   "metadata": {
    "execution": {
     "iopub.execute_input": "2022-01-31T04:26:39.317755Z",
     "iopub.status.busy": "2022-01-31T04:26:39.317202Z",
     "iopub.status.idle": "2022-01-31T04:26:39.452582Z",
     "shell.execute_reply": "2022-01-31T04:26:39.451858Z",
     "shell.execute_reply.started": "2022-01-31T04:26:39.317716Z"
    },
    "papermill": {
     "duration": null,
     "end_time": null,
     "exception": null,
     "start_time": null,
     "status": "pending"
    },
    "tags": []
   },
   "outputs": [],
   "source": [
    "En=clean_train_Texts_En[0:1300]\n",
    "clean_train_Texts = []\n",
    "num_Texts = 0\n",
    "clearTexts(Ar_data,pos='tweet')\n",
    "a = clean_train_Texts\n",
    "\n",
    "l_En=label_En[0:1300]\n",
    "for i in range(200,501):\n",
    "    En.append(str(a[i]))\n",
    "    l_En=np.append(l_En,[0])\n",
    "\n",
    "\n",
    "Ar=clean_train_Texts_Ar[0:800]\n",
    "l_Ar=label_Ar[0:800]\n",
    "clean_train_Texts = []\n",
    "num_Texts = 0\n",
    "clearTexts(Ar_data,pos='tweet')\n",
    "a = clean_train_Texts\n",
    "for i in range(100,301):\n",
    "    Ar.append(a[i])\n",
    "    l_Ar=np.append(l_Ar,[0])"
   ]
  },
  {
   "cell_type": "code",
   "execution_count": null,
   "id": "ddcbf80a",
   "metadata": {
    "execution": {
     "iopub.execute_input": "2022-01-31T04:26:42.969146Z",
     "iopub.status.busy": "2022-01-31T04:26:42.968878Z",
     "iopub.status.idle": "2022-01-31T04:26:42.975602Z",
     "shell.execute_reply": "2022-01-31T04:26:42.974810Z",
     "shell.execute_reply.started": "2022-01-31T04:26:42.969118Z"
    },
    "papermill": {
     "duration": null,
     "end_time": null,
     "exception": null,
     "start_time": null,
     "status": "pending"
    },
    "tags": []
   },
   "outputs": [],
   "source": [
    "l_En=l_En.reshape(len(l_En),1)\n",
    "l_Ar=l_Ar.reshape(len(l_Ar),1)"
   ]
  },
  {
   "cell_type": "code",
   "execution_count": null,
   "id": "4740b378",
   "metadata": {
    "execution": {
     "iopub.execute_input": "2022-01-31T04:26:58.751319Z",
     "iopub.status.busy": "2022-01-31T04:26:58.751010Z",
     "iopub.status.idle": "2022-01-31T04:26:59.340419Z",
     "shell.execute_reply": "2022-01-31T04:26:59.339649Z",
     "shell.execute_reply.started": "2022-01-31T04:26:58.751285Z"
    },
    "papermill": {
     "duration": null,
     "end_time": null,
     "exception": null,
     "start_time": null,
     "status": "pending"
    },
    "tags": []
   },
   "outputs": [],
   "source": [
    "from sklearn.model_selection import train_test_split\n",
    "train_En_X,test_En_X, train_En_y, test_En_y = train_test_split(En, l_En, test_size = 0.1, random_state = 0)\n",
    "train_Ar_X,test_Ar_X, train_Ar_y, test_Ar_y = train_test_split(Ar, l_Ar, test_size = 0.1, random_state = 0)"
   ]
  },
  {
   "cell_type": "code",
   "execution_count": null,
   "id": "13bbc811",
   "metadata": {
    "execution": {
     "iopub.execute_input": "2022-01-31T04:27:00.776496Z",
     "iopub.status.busy": "2022-01-31T04:27:00.775726Z",
     "iopub.status.idle": "2022-01-31T04:27:00.813620Z",
     "shell.execute_reply": "2022-01-31T04:27:00.812970Z",
     "shell.execute_reply.started": "2022-01-31T04:27:00.776438Z"
    },
    "papermill": {
     "duration": null,
     "end_time": null,
     "exception": null,
     "start_time": null,
     "status": "pending"
    },
    "tags": []
   },
   "outputs": [],
   "source": [
    "from datasets import Dataset,DatasetDict\n",
    "dataset_En = DatasetDict({'train':Dataset.from_dict({\"sentence\": train_En_X,'label':train_En_y}), 'test':Dataset.from_dict({\"sentence\": test_En_X,'label':test_En_y})})\n",
    "dataset_Ar = DatasetDict({'train':Dataset.from_dict({\"sentence\": train_Ar_X,'label':train_Ar_y}),'test':Dataset.from_dict({\"sentence\": test_Ar_X,'label':test_Ar_y})})"
   ]
  },
  {
   "cell_type": "code",
   "execution_count": null,
   "id": "f82facca",
   "metadata": {
    "execution": {
     "iopub.execute_input": "2022-01-31T04:27:01.669946Z",
     "iopub.status.busy": "2022-01-31T04:27:01.669373Z",
     "iopub.status.idle": "2022-01-31T04:27:01.678324Z",
     "shell.execute_reply": "2022-01-31T04:27:01.677698Z",
     "shell.execute_reply.started": "2022-01-31T04:27:01.669909Z"
    },
    "papermill": {
     "duration": null,
     "end_time": null,
     "exception": null,
     "start_time": null,
     "status": "pending"
    },
    "tags": []
   },
   "outputs": [],
   "source": [
    "dataset_En"
   ]
  },
  {
   "cell_type": "markdown",
   "id": "50e56f90",
   "metadata": {
    "papermill": {
     "duration": null,
     "end_time": null,
     "exception": null,
     "start_time": null,
     "status": "pending"
    },
    "tags": []
   },
   "source": [
    "## 分词"
   ]
  },
  {
   "cell_type": "code",
   "execution_count": null,
   "id": "1c3595c8",
   "metadata": {
    "execution": {
     "iopub.execute_input": "2022-01-31T04:27:03.780876Z",
     "iopub.status.busy": "2022-01-31T04:27:03.780347Z",
     "iopub.status.idle": "2022-01-31T04:27:04.330742Z",
     "shell.execute_reply": "2022-01-31T04:27:04.330079Z",
     "shell.execute_reply.started": "2022-01-31T04:27:03.780838Z"
    },
    "papermill": {
     "duration": null,
     "end_time": null,
     "exception": null,
     "start_time": null,
     "status": "pending"
    },
    "tags": []
   },
   "outputs": [],
   "source": [
    "sentence1_key, sentence2_key = task_to_keys[task]\n",
    "encoded_dataset_En = dataset_En.map(preprocess_function, batched=True)\n",
    "encoded_dataset_Ar = dataset_Ar.map(preprocess_function, batched=True)"
   ]
  },
  {
   "cell_type": "markdown",
   "id": "b7d94102",
   "metadata": {
    "papermill": {
     "duration": null,
     "end_time": null,
     "exception": null,
     "start_time": null,
     "status": "pending"
    },
    "tags": []
   },
   "source": [
    "## Fine-tuning the model"
   ]
  },
  {
   "cell_type": "code",
   "execution_count": null,
   "id": "38b81d9f",
   "metadata": {
    "execution": {
     "iopub.execute_input": "2022-01-31T04:40:14.540045Z",
     "iopub.status.busy": "2022-01-31T04:40:14.539574Z",
     "iopub.status.idle": "2022-01-31T04:40:20.307923Z",
     "shell.execute_reply": "2022-01-31T04:40:20.307196Z",
     "shell.execute_reply.started": "2022-01-31T04:40:14.540007Z"
    },
    "papermill": {
     "duration": null,
     "end_time": null,
     "exception": null,
     "start_time": null,
     "status": "pending"
    },
    "tags": []
   },
   "outputs": [],
   "source": [
    "from transformers import AutoModelForSequenceClassification, TrainingArguments, Trainer\n",
    "\n",
    "num_labels = 2\n",
    "model1 = AutoModelForSequenceClassification.from_pretrained(model_checkpoint, num_labels=num_labels)"
   ]
  },
  {
   "cell_type": "markdown",
   "id": "001df070",
   "metadata": {
    "papermill": {
     "duration": null,
     "end_time": null,
     "exception": null,
     "start_time": null,
     "status": "pending"
    },
    "tags": []
   },
   "source": [
    "训练参数"
   ]
  },
  {
   "cell_type": "code",
   "execution_count": null,
   "id": "314f1279",
   "metadata": {
    "execution": {
     "iopub.execute_input": "2022-01-31T04:30:27.021627Z",
     "iopub.status.busy": "2022-01-31T04:30:27.021041Z",
     "iopub.status.idle": "2022-01-31T04:30:27.033266Z",
     "shell.execute_reply": "2022-01-31T04:30:27.032431Z",
     "shell.execute_reply.started": "2022-01-31T04:30:27.021586Z"
    },
    "papermill": {
     "duration": null,
     "end_time": null,
     "exception": null,
     "start_time": null,
     "status": "pending"
    },
    "tags": []
   },
   "outputs": [],
   "source": [
    "metric_name = \"f1-score\"\n",
    "model_name = model_checkpoint.split(\"/\")[-1]\n",
    "\n",
    "args = TrainingArguments(\n",
    "    f\"{model_name}-finetuned-{task}\",\n",
    "    evaluation_strategy = \"epoch\",\n",
    "    save_strategy = \"epoch\",\n",
    "    learning_rate=2e-5,\n",
    "    save_total_limit = 3,\n",
    "    per_device_train_batch_size=batch_size,\n",
    "    per_device_eval_batch_size=batch_size,\n",
    "    num_train_epochs=10,\n",
    "    weight_decay=0.01,\n",
    "    load_best_model_at_end=True,\n",
    "    metric_for_best_model=metric_name,\n",
    "#     push_to_hub=True,\n",
    ")"
   ]
  },
  {
   "cell_type": "markdown",
   "id": "11c5d8e7",
   "metadata": {
    "papermill": {
     "duration": null,
     "end_time": null,
     "exception": null,
     "start_time": null,
     "status": "pending"
    },
    "tags": []
   },
   "source": [
    "评估函数"
   ]
  },
  {
   "cell_type": "code",
   "execution_count": null,
   "id": "323ccdad",
   "metadata": {
    "execution": {
     "iopub.execute_input": "2022-01-31T04:30:27.731703Z",
     "iopub.status.busy": "2022-01-31T04:30:27.731144Z",
     "iopub.status.idle": "2022-01-31T04:30:27.740914Z",
     "shell.execute_reply": "2022-01-31T04:30:27.740230Z",
     "shell.execute_reply.started": "2022-01-31T04:30:27.731662Z"
    },
    "papermill": {
     "duration": null,
     "end_time": null,
     "exception": null,
     "start_time": null,
     "status": "pending"
    },
    "tags": []
   },
   "outputs": [],
   "source": [
    "from sklearn.metrics import f1_score,accuracy_score\n",
    "def compute_metrics1(eval_pred):\n",
    "    y_pred, y_true = eval_pred\n",
    "    y_pred = np.argmax(y_pred, axis=1)\n",
    "    F1 = f1_score(y_true, y_pred,labels=[0,1])\n",
    "    acc = accuracy_score(y_true, y_pred)\n",
    "    return{'f1-score': F1,'accuracy': acc}"
   ]
  },
  {
   "cell_type": "markdown",
   "id": "e1843f12",
   "metadata": {
    "papermill": {
     "duration": null,
     "end_time": null,
     "exception": null,
     "start_time": null,
     "status": "pending"
    },
    "tags": []
   },
   "source": [
    "训练器"
   ]
  },
  {
   "cell_type": "code",
   "execution_count": null,
   "id": "83ed4296",
   "metadata": {
    "execution": {
     "iopub.execute_input": "2022-01-31T04:30:28.825138Z",
     "iopub.status.busy": "2022-01-31T04:30:28.824878Z",
     "iopub.status.idle": "2022-01-31T04:30:33.668829Z",
     "shell.execute_reply": "2022-01-31T04:30:33.668042Z",
     "shell.execute_reply.started": "2022-01-31T04:30:28.825109Z"
    },
    "papermill": {
     "duration": null,
     "end_time": null,
     "exception": null,
     "start_time": null,
     "status": "pending"
    },
    "tags": []
   },
   "outputs": [],
   "source": [
    "trainer = Trainer(\n",
    "    model1,\n",
    "    args,\n",
    "    train_dataset=encoded_dataset_En[\"train\"],\n",
    "    eval_dataset=encoded_dataset_En[\"test\"],\n",
    "    tokenizer=tokenizer,\n",
    "    compute_metrics=compute_metrics1\n",
    ")"
   ]
  },
  {
   "cell_type": "code",
   "execution_count": null,
   "id": "eb7fd6ba",
   "metadata": {
    "execution": {
     "iopub.execute_input": "2022-01-31T04:30:33.672718Z",
     "iopub.status.busy": "2022-01-31T04:30:33.672337Z",
     "iopub.status.idle": "2022-01-31T04:35:28.917307Z",
     "shell.execute_reply": "2022-01-31T04:35:28.916383Z",
     "shell.execute_reply.started": "2022-01-31T04:30:33.672686Z"
    },
    "papermill": {
     "duration": null,
     "end_time": null,
     "exception": null,
     "start_time": null,
     "status": "pending"
    },
    "tags": []
   },
   "outputs": [],
   "source": [
    "trainer.train()"
   ]
  },
  {
   "cell_type": "code",
   "execution_count": null,
   "id": "efad4c3b",
   "metadata": {
    "execution": {
     "iopub.execute_input": "2022-01-31T04:35:28.924605Z",
     "iopub.status.busy": "2022-01-31T04:35:28.922177Z",
     "iopub.status.idle": "2022-01-31T04:35:29.591475Z",
     "shell.execute_reply": "2022-01-31T04:35:29.587848Z",
     "shell.execute_reply.started": "2022-01-31T04:35:28.924561Z"
    },
    "papermill": {
     "duration": null,
     "end_time": null,
     "exception": null,
     "start_time": null,
     "status": "pending"
    },
    "tags": []
   },
   "outputs": [],
   "source": [
    "trainer.evaluate()"
   ]
  },
  {
   "cell_type": "code",
   "execution_count": null,
   "id": "ad2283e8",
   "metadata": {
    "execution": {
     "iopub.execute_input": "2022-01-31T04:40:22.939219Z",
     "iopub.status.busy": "2022-01-31T04:40:22.938488Z",
     "iopub.status.idle": "2022-01-31T04:40:23.131564Z",
     "shell.execute_reply": "2022-01-31T04:40:23.130723Z",
     "shell.execute_reply.started": "2022-01-31T04:40:22.939172Z"
    },
    "papermill": {
     "duration": null,
     "end_time": null,
     "exception": null,
     "start_time": null,
     "status": "pending"
    },
    "tags": []
   },
   "outputs": [],
   "source": [
    "trainer = Trainer(\n",
    "    model1,\n",
    "    args,\n",
    "    train_dataset=encoded_dataset_Ar[\"train\"],\n",
    "    eval_dataset=encoded_dataset_Ar[\"test\"],\n",
    "    tokenizer=tokenizer,\n",
    "    compute_metrics=compute_metrics1\n",
    ")"
   ]
  },
  {
   "cell_type": "code",
   "execution_count": null,
   "id": "81306656",
   "metadata": {
    "execution": {
     "iopub.execute_input": "2022-01-31T04:40:23.559176Z",
     "iopub.status.busy": "2022-01-31T04:40:23.558444Z",
     "iopub.status.idle": "2022-01-31T04:44:47.663463Z",
     "shell.execute_reply": "2022-01-31T04:44:47.662782Z",
     "shell.execute_reply.started": "2022-01-31T04:40:23.559135Z"
    },
    "papermill": {
     "duration": null,
     "end_time": null,
     "exception": null,
     "start_time": null,
     "status": "pending"
    },
    "tags": []
   },
   "outputs": [],
   "source": [
    "trainer.train()"
   ]
  },
  {
   "cell_type": "code",
   "execution_count": null,
   "id": "723ff9fd",
   "metadata": {
    "execution": {
     "iopub.execute_input": "2022-01-31T04:44:47.668962Z",
     "iopub.status.busy": "2022-01-31T04:44:47.664668Z",
     "iopub.status.idle": "2022-01-31T04:44:48.109081Z",
     "shell.execute_reply": "2022-01-31T04:44:48.108460Z",
     "shell.execute_reply.started": "2022-01-31T04:44:47.668924Z"
    },
    "papermill": {
     "duration": null,
     "end_time": null,
     "exception": null,
     "start_time": null,
     "status": "pending"
    },
    "tags": []
   },
   "outputs": [],
   "source": [
    "trainer.evaluate()"
   ]
  },
  {
   "cell_type": "code",
   "execution_count": null,
   "id": "d3655b47",
   "metadata": {
    "execution": {
     "iopub.status.busy": "2022-01-30T14:39:44.617399Z",
     "iopub.status.idle": "2022-01-30T14:39:44.618603Z",
     "shell.execute_reply": "2022-01-30T14:39:44.618320Z",
     "shell.execute_reply.started": "2022-01-30T14:39:44.618288Z"
    },
    "papermill": {
     "duration": null,
     "end_time": null,
     "exception": null,
     "start_time": null,
     "status": "pending"
    },
    "tags": []
   },
   "outputs": [],
   "source": [
    "torch.save(model1,\"mlpl1.pkl\")"
   ]
  },
  {
   "cell_type": "markdown",
   "id": "c677e176",
   "metadata": {
    "papermill": {
     "duration": null,
     "end_time": null,
     "exception": null,
     "start_time": null,
     "status": "pending"
    },
    "tags": []
   },
   "source": [
    "# Task B"
   ]
  },
  {
   "cell_type": "markdown",
   "id": "13986941",
   "metadata": {
    "papermill": {
     "duration": null,
     "end_time": null,
     "exception": null,
     "start_time": null,
     "status": "pending"
    },
    "tags": []
   },
   "source": [
    "## 处理标签"
   ]
  },
  {
   "cell_type": "code",
   "execution_count": null,
   "id": "584a4064",
   "metadata": {
    "execution": {
     "iopub.execute_input": "2022-01-30T14:41:10.639691Z",
     "iopub.status.busy": "2022-01-30T14:41:10.639368Z",
     "iopub.status.idle": "2022-01-30T14:41:10.703383Z",
     "shell.execute_reply": "2022-01-30T14:41:10.701439Z",
     "shell.execute_reply.started": "2022-01-30T14:41:10.639657Z"
    },
    "papermill": {
     "duration": null,
     "end_time": null,
     "exception": null,
     "start_time": null,
     "status": "pending"
    },
    "tags": []
   },
   "outputs": [],
   "source": [
    "import numpy as np\n",
    "import torch\n",
    "x=[0,1,2,3]\n",
    "label2 = En_data.copy()\n",
    "label2.drop(label2.columns[x], axis=1, inplace=True)\n",
    "label2=np.array(label2)\n",
    "#nan->0\n",
    "for i in range(0,num_Texts_En):\n",
    "    for j in range(0,6):\n",
    "        if(str(label2[i][j])==\"nan\"):\n",
    "            label2[i][j]=0\n",
    "label2 = label2.reshape(num_Texts_En,6)\n",
    "print(label2.shape)"
   ]
  },
  {
   "cell_type": "code",
   "execution_count": null,
   "id": "632ccdd9",
   "metadata": {
    "execution": {
     "iopub.execute_input": "2022-01-30T14:41:11.118427Z",
     "iopub.status.busy": "2022-01-30T14:41:11.118082Z",
     "iopub.status.idle": "2022-01-30T14:41:11.126785Z",
     "shell.execute_reply": "2022-01-30T14:41:11.126065Z",
     "shell.execute_reply.started": "2022-01-30T14:41:11.118395Z"
    },
    "papermill": {
     "duration": null,
     "end_time": null,
     "exception": null,
     "start_time": null,
     "status": "pending"
    },
    "tags": []
   },
   "outputs": [],
   "source": [
    "label2.dtype"
   ]
  },
  {
   "cell_type": "code",
   "execution_count": null,
   "id": "cbcff420",
   "metadata": {
    "execution": {
     "iopub.execute_input": "2022-01-30T14:41:11.973082Z",
     "iopub.status.busy": "2022-01-30T14:41:11.972693Z",
     "iopub.status.idle": "2022-01-30T14:41:12.006665Z",
     "shell.execute_reply": "2022-01-30T14:41:12.005701Z",
     "shell.execute_reply.started": "2022-01-30T14:41:11.973049Z"
    },
    "papermill": {
     "duration": null,
     "end_time": null,
     "exception": null,
     "start_time": null,
     "status": "pending"
    },
    "tags": []
   },
   "outputs": [],
   "source": [
    "l1=l2=l3=l4=l5=l6=0\n",
    "for i in range(label2.shape[0]):\n",
    "    l1 += label2[i][0]\n",
    "    l2 += label2[i][1]\n",
    "    l3 += label2[i][2]\n",
    "    l4 += label2[i][3]\n",
    "    l5 += label2[i][4]\n",
    "    l6 += label2[i][5]"
   ]
  },
  {
   "cell_type": "code",
   "execution_count": null,
   "id": "18e176df",
   "metadata": {
    "execution": {
     "iopub.execute_input": "2022-01-30T14:41:12.704490Z",
     "iopub.status.busy": "2022-01-30T14:41:12.703611Z",
     "iopub.status.idle": "2022-01-30T14:41:12.716058Z",
     "shell.execute_reply": "2022-01-30T14:41:12.714515Z",
     "shell.execute_reply.started": "2022-01-30T14:41:12.704452Z"
    },
    "papermill": {
     "duration": null,
     "end_time": null,
     "exception": null,
     "start_time": null,
     "status": "pending"
    },
    "tags": []
   },
   "outputs": [],
   "source": [
    "print(l1)\n",
    "print(l2)\n",
    "print(l3)\n",
    "print(l4)\n",
    "print(l5)\n",
    "print(l6)"
   ]
  },
  {
   "cell_type": "markdown",
   "id": "057f4347",
   "metadata": {
    "papermill": {
     "duration": null,
     "end_time": null,
     "exception": null,
     "start_time": null,
     "status": "pending"
    },
    "tags": []
   },
   "source": [
    "## 划分数据集"
   ]
  },
  {
   "cell_type": "code",
   "execution_count": null,
   "id": "ea915e10",
   "metadata": {
    "execution": {
     "iopub.execute_input": "2022-01-30T14:41:13.664163Z",
     "iopub.status.busy": "2022-01-30T14:41:13.663540Z",
     "iopub.status.idle": "2022-01-30T14:41:14.383914Z",
     "shell.execute_reply": "2022-01-30T14:41:14.382848Z",
     "shell.execute_reply.started": "2022-01-30T14:41:13.664126Z"
    },
    "papermill": {
     "duration": null,
     "end_time": null,
     "exception": null,
     "start_time": null,
     "status": "pending"
    },
    "tags": []
   },
   "outputs": [],
   "source": [
    "from sklearn.model_selection import train_test_split\n",
    "train2_X,test2_X, train2_y, test2_y = train_test_split(clean_train_Texts_En[0:900], label2[0:900], test_size = 0.1, random_state = 0)\n",
    "from datasets import Dataset,DatasetDict\n",
    "dataset2 = DatasetDict({'train':Dataset.from_dict({\"sentence\": train2_X,'labels':train2_y}),'test':Dataset.from_dict({\"sentence\": test2_X,'labels':test2_y})})"
   ]
  },
  {
   "cell_type": "markdown",
   "id": "723ad402",
   "metadata": {
    "papermill": {
     "duration": null,
     "end_time": null,
     "exception": null,
     "start_time": null,
     "status": "pending"
    },
    "tags": []
   },
   "source": [
    "## 分词"
   ]
  },
  {
   "cell_type": "code",
   "execution_count": null,
   "id": "feee6378",
   "metadata": {
    "execution": {
     "iopub.execute_input": "2022-01-30T14:41:14.974855Z",
     "iopub.status.busy": "2022-01-30T14:41:14.974019Z",
     "iopub.status.idle": "2022-01-30T14:41:15.286909Z",
     "shell.execute_reply": "2022-01-30T14:41:15.285687Z",
     "shell.execute_reply.started": "2022-01-30T14:41:14.974801Z"
    },
    "papermill": {
     "duration": null,
     "end_time": null,
     "exception": null,
     "start_time": null,
     "status": "pending"
    },
    "tags": []
   },
   "outputs": [],
   "source": [
    "sentence1_key, sentence2_key = task_to_keys[task]\n",
    "encoded_dataset2 = dataset2.map(preprocess_function, batched=True)"
   ]
  },
  {
   "cell_type": "markdown",
   "id": "b3c540d5",
   "metadata": {
    "papermill": {
     "duration": null,
     "end_time": null,
     "exception": null,
     "start_time": null,
     "status": "pending"
    },
    "tags": []
   },
   "source": [
    "## Fine-tuning the model"
   ]
  },
  {
   "cell_type": "markdown",
   "id": "8ec565dd",
   "metadata": {
    "papermill": {
     "duration": null,
     "end_time": null,
     "exception": null,
     "start_time": null,
     "status": "pending"
    },
    "tags": []
   },
   "source": [
    "### 拆分二分类器版本"
   ]
  },
  {
   "cell_type": "code",
   "execution_count": null,
   "id": "28e443be",
   "metadata": {
    "execution": {
     "iopub.status.busy": "2022-01-30T14:39:44.635538Z",
     "iopub.status.idle": "2022-01-30T14:39:44.636406Z",
     "shell.execute_reply": "2022-01-30T14:39:44.636128Z",
     "shell.execute_reply.started": "2022-01-30T14:39:44.636069Z"
    },
    "papermill": {
     "duration": null,
     "end_time": null,
     "exception": null,
     "start_time": null,
     "status": "pending"
    },
    "tags": []
   },
   "outputs": [],
   "source": [
    "from transformers import AutoModelForSequenceClassification, TrainingArguments, Trainer\n",
    "\n",
    "model_1 = AutoModelForSequenceClassification.from_pretrained(model_checkpoint, num_labels=2)\n",
    "model_2 = AutoModelForSequenceClassification.from_pretrained(model_checkpoint, num_labels=2)\n",
    "model_3 = AutoModelForSequenceClassification.from_pretrained(model_checkpoint, num_labels=2)\n",
    "model_4 = AutoModelForSequenceClassification.from_pretrained(model_checkpoint, num_labels=2)\n",
    "model_5 = AutoModelForSequenceClassification.from_pretrained(model_checkpoint, num_labels=2)\n",
    "model_6 = AutoModelForSequenceClassification.from_pretrained(model_checkpoint, num_labels=2)\n",
    "model_7 = AutoModelForSequenceClassification.from_pretrained(model_checkpoint, num_labels=2)\n"
   ]
  },
  {
   "cell_type": "markdown",
   "id": "48b1046a",
   "metadata": {
    "papermill": {
     "duration": null,
     "end_time": null,
     "exception": null,
     "start_time": null,
     "status": "pending"
    },
    "tags": []
   },
   "source": [
    "收集标签并划分数据集"
   ]
  },
  {
   "cell_type": "code",
   "execution_count": null,
   "id": "629bc1fb",
   "metadata": {
    "execution": {
     "iopub.status.busy": "2022-01-30T14:39:44.638049Z",
     "iopub.status.idle": "2022-01-30T14:39:44.639055Z",
     "shell.execute_reply": "2022-01-30T14:39:44.638645Z",
     "shell.execute_reply.started": "2022-01-30T14:39:44.638600Z"
    },
    "papermill": {
     "duration": null,
     "end_time": null,
     "exception": null,
     "start_time": null,
     "status": "pending"
    },
    "tags": []
   },
   "outputs": [],
   "source": [
    "t_1=[]\n",
    "l_1=[]\n",
    "t_2=[]\n",
    "l_2=[]\n",
    "t_3=[]\n",
    "l_3=[]\n",
    "t_4=[]\n",
    "l_4=[]\n",
    "t_5=[]\n",
    "l_5=[]\n",
    "t_6=[]\n",
    "l_6=[]\n",
    "for i in range(label2.shape[0]):\n",
    "    if(label2[i][0]==1):\n",
    "        t_1.append(clean_train_Texts_En[i])\n",
    "        l_1.append(1)\n",
    "    elif(l1!=0):\n",
    "        l1-=1\n",
    "        t_1.append(clean_train_Texts_En[i])\n",
    "        l_1.append(0)\n",
    "    if(label2[i][1]==1):\n",
    "        t_2.append(clean_train_Texts_En[i])\n",
    "        l_2.append(1)\n",
    "    elif(l2!=0):\n",
    "        l2-=1\n",
    "        t_2.append(clean_train_Texts_En[i])\n",
    "        l_2.append(0)\n",
    "    if(label2[i][2]==1):\n",
    "        t_3.append(clean_train_Texts_En[i])\n",
    "        l_3.append(1)\n",
    "    elif(l3!=0):\n",
    "        l3-=1\n",
    "        t_3.append(clean_train_Texts_En[i])\n",
    "        l_3.append(0)\n",
    "    if(label2[i][3]==1):\n",
    "        t_4.append(clean_train_Texts_En[i])\n",
    "        l_4.append(1)\n",
    "    elif(l4!=0):\n",
    "        l4-=1\n",
    "        t_4.append(clean_train_Texts_En[i])\n",
    "        l_4.append(0)\n",
    "    if(label2[i][4]==1):\n",
    "        t_5.append(clean_train_Texts_En[i])\n",
    "        l_5.append(1)\n",
    "    elif(l5!=0):\n",
    "        l5-=1\n",
    "        t_5.append(clean_train_Texts_En[i])\n",
    "        l_5.append(0)\n",
    "    if(label2[i][5]==1):\n",
    "        t_6.append(clean_train_Texts_En[i])\n",
    "        l_6.append(1)\n",
    "    elif(l6!=0):\n",
    "        l6-=1\n",
    "        t_6.append(clean_train_Texts_En[i])\n",
    "        l_6.append(0)\n",
    "        "
   ]
  },
  {
   "cell_type": "code",
   "execution_count": null,
   "id": "2f2ad8d0",
   "metadata": {
    "execution": {
     "iopub.status.busy": "2022-01-30T14:39:44.640615Z",
     "iopub.status.idle": "2022-01-30T14:39:44.641430Z",
     "shell.execute_reply": "2022-01-30T14:39:44.641165Z",
     "shell.execute_reply.started": "2022-01-30T14:39:44.641133Z"
    },
    "papermill": {
     "duration": null,
     "end_time": null,
     "exception": null,
     "start_time": null,
     "status": "pending"
    },
    "tags": []
   },
   "outputs": [],
   "source": [
    "l_1=np.array(l_1).reshape(len(l_1),1)\n",
    "l_2=np.array(l_2).reshape(len(l_2),1)\n",
    "l_3=np.array(l_3).reshape(len(l_3),1)\n",
    "l_4=np.array(l_4).reshape(len(l_4),1)\n",
    "l_5=np.array(l_5).reshape(len(l_5),1)\n",
    "l_6=np.array(l_6).reshape(len(l_6),1)"
   ]
  },
  {
   "cell_type": "code",
   "execution_count": null,
   "id": "3748cace",
   "metadata": {
    "execution": {
     "iopub.status.busy": "2022-01-30T14:39:44.643053Z",
     "iopub.status.idle": "2022-01-30T14:39:44.643874Z",
     "shell.execute_reply": "2022-01-30T14:39:44.643575Z",
     "shell.execute_reply.started": "2022-01-30T14:39:44.643544Z"
    },
    "papermill": {
     "duration": null,
     "end_time": null,
     "exception": null,
     "start_time": null,
     "status": "pending"
    },
    "tags": []
   },
   "outputs": [],
   "source": [
    "from sklearn.model_selection import train_test_split\n",
    "from datasets import Dataset,DatasetDict\n",
    "train2_X,test2_X, train2_y, test2_y = train_test_split(t_1, l_1, test_size = 0.2, random_state = 0)\n",
    "dataset2_l1 = DatasetDict({'train':Dataset.from_dict({\"sentence\": train2_X,'labels':train2_y}),'test':Dataset.from_dict({\"sentence\": test2_X,'labels':test2_y})})\n",
    "train2_X,test2_X, train2_y, test2_y = train_test_split(t_2, l_2, test_size = 0.2, random_state = 0)\n",
    "dataset2_l2 = DatasetDict({'train':Dataset.from_dict({\"sentence\": train2_X,'labels':train2_y}),'test':Dataset.from_dict({\"sentence\": test2_X,'labels':test2_y})})\n",
    "train2_X,test2_X, train2_y, test2_y = train_test_split(t_3, l_3, test_size = 0.2, random_state = 0)\n",
    "dataset2_l3 = DatasetDict({'train':Dataset.from_dict({\"sentence\": train2_X,'labels':train2_y}),'test':Dataset.from_dict({\"sentence\": test2_X,'labels':test2_y})})\n",
    "train2_X,test2_X, train2_y, test2_y = train_test_split(t_4, l_4, test_size = 0.2, random_state = 0)\n",
    "dataset2_l4 = DatasetDict({'train':Dataset.from_dict({\"sentence\": train2_X,'labels':train2_y}),'test':Dataset.from_dict({\"sentence\": test2_X,'labels':test2_y})})\n",
    "train2_X,test2_X, train2_y, test2_y = train_test_split(t_5, l_5, test_size = 0.2, random_state = 0)\n",
    "dataset2_l5 = DatasetDict({'train':Dataset.from_dict({\"sentence\": train2_X,'labels':train2_y}),'test':Dataset.from_dict({\"sentence\": test2_X,'labels':test2_y})})\n",
    "train2_X,test2_X, train2_y, test2_y = train_test_split(t_6, l_6, test_size = 0.2, random_state = 0)\n",
    "dataset2_l6 = DatasetDict({'train':Dataset.from_dict({\"sentence\": train2_X,'labels':train2_y}),'test':Dataset.from_dict({\"sentence\": test2_X,'labels':test2_y})})"
   ]
  },
  {
   "cell_type": "code",
   "execution_count": null,
   "id": "e1d4688b",
   "metadata": {
    "execution": {
     "iopub.status.busy": "2022-01-30T14:39:44.645441Z",
     "iopub.status.idle": "2022-01-30T14:39:44.646302Z",
     "shell.execute_reply": "2022-01-30T14:39:44.646020Z",
     "shell.execute_reply.started": "2022-01-30T14:39:44.645968Z"
    },
    "papermill": {
     "duration": null,
     "end_time": null,
     "exception": null,
     "start_time": null,
     "status": "pending"
    },
    "tags": []
   },
   "outputs": [],
   "source": [
    "sentence1_key, sentence2_key = task_to_keys[task]\n",
    "encoded_dataset2_l1 = dataset2_l1.map(preprocess_function, batched=True)\n",
    "encoded_dataset2_l2 = dataset2_l2.map(preprocess_function, batched=True)\n",
    "encoded_dataset2_l3 = dataset2_l3.map(preprocess_function, batched=True)\n",
    "encoded_dataset2_l4 = dataset2_l4.map(preprocess_function, batched=True)\n",
    "encoded_dataset2_l5 = dataset2_l5.map(preprocess_function, batched=True)\n",
    "encoded_dataset2_l6 = dataset2_l6.map(preprocess_function, batched=True)"
   ]
  },
  {
   "cell_type": "code",
   "execution_count": null,
   "id": "a8570ac2",
   "metadata": {
    "execution": {
     "iopub.status.busy": "2022-01-30T14:39:44.647943Z",
     "iopub.status.idle": "2022-01-30T14:39:44.648866Z",
     "shell.execute_reply": "2022-01-30T14:39:44.648549Z",
     "shell.execute_reply.started": "2022-01-30T14:39:44.648518Z"
    },
    "papermill": {
     "duration": null,
     "end_time": null,
     "exception": null,
     "start_time": null,
     "status": "pending"
    },
    "tags": []
   },
   "outputs": [],
   "source": [
    "from transformers import TrainingArguments,Trainer\n",
    "metric_name = \"f1-score\"\n",
    "model_name = model_checkpoint.split(\"/\")[-1]\n",
    "\n",
    "args = TrainingArguments(\n",
    "    f\"{model_name}-finetuned-{task}\",\n",
    "    evaluation_strategy = \"epoch\",\n",
    "    save_strategy = \"epoch\",\n",
    "    learning_rate=2e-5,\n",
    "    save_total_limit = 1,\n",
    "    per_device_train_batch_size=8,\n",
    "    per_device_eval_batch_size=8,\n",
    "    num_train_epochs=5,\n",
    "    weight_decay=0.01,\n",
    "    load_best_model_at_end=True,\n",
    "    metric_for_best_model=metric_name,\n",
    "#     push_to_hub=True,\n",
    ")\n",
    "\n",
    "from sklearn.metrics import f1_score,accuracy_score\n",
    "def compute_metrics2(eval_pred):\n",
    "    y_pred, y_true = eval_pred\n",
    "    y_pred = np.argmax(y_pred, axis=1)\n",
    "    F1 = f1_score(y_true, y_pred,labels=[0,1])\n",
    "    acc = accuracy_score(y_true, y_pred)\n",
    "    return{'f1-score': F1,'accuracy': acc}\n",
    "\n",
    "\n",
    "trainer1 = Trainer(\n",
    "    model_1,\n",
    "    args,\n",
    "    train_dataset=encoded_dataset2_l1[\"train\"],\n",
    "    eval_dataset=encoded_dataset2_l1[\"test\"],\n",
    "    tokenizer=tokenizer,\n",
    "    compute_metrics=compute_metrics2\n",
    ")\n",
    "trainer2 = Trainer(\n",
    "    model_2,\n",
    "    args,\n",
    "    train_dataset=encoded_dataset2_l2[\"train\"],\n",
    "    eval_dataset=encoded_dataset2_l2[\"test\"],\n",
    "    tokenizer=tokenizer,\n",
    "    compute_metrics=compute_metrics2\n",
    ")\n",
    "trainer3 = Trainer(\n",
    "    model_3,\n",
    "    args,\n",
    "    train_dataset=encoded_dataset2_l3[\"train\"],\n",
    "    eval_dataset=encoded_dataset2_l3[\"test\"],\n",
    "    tokenizer=tokenizer,\n",
    "    compute_metrics=compute_metrics2\n",
    ")\n",
    "trainer4 = Trainer(\n",
    "    model_4,\n",
    "    args,\n",
    "    train_dataset=encoded_dataset2_l4[\"train\"],\n",
    "    eval_dataset=encoded_dataset2_l4[\"test\"],\n",
    "    tokenizer=tokenizer,\n",
    "    compute_metrics=compute_metrics2\n",
    ")\n",
    "trainer5 = Trainer(\n",
    "    model_5,\n",
    "    args,\n",
    "    train_dataset=encoded_dataset2_l5[\"train\"],\n",
    "    eval_dataset=encoded_dataset2_l5[\"test\"],\n",
    "    tokenizer=tokenizer,\n",
    "    compute_metrics=compute_metrics2\n",
    ")\n",
    "trainer6 = Trainer(\n",
    "    model_6,\n",
    "    args,\n",
    "    train_dataset=encoded_dataset2_l6[\"train\"],\n",
    "    eval_dataset=encoded_dataset2_l6[\"test\"],\n",
    "    tokenizer=tokenizer,\n",
    "    compute_metrics=compute_metrics2\n",
    ")"
   ]
  },
  {
   "cell_type": "code",
   "execution_count": null,
   "id": "1cc7690e",
   "metadata": {
    "execution": {
     "iopub.status.busy": "2022-01-30T14:39:44.652497Z",
     "iopub.status.idle": "2022-01-30T14:39:44.653347Z",
     "shell.execute_reply": "2022-01-30T14:39:44.653046Z",
     "shell.execute_reply.started": "2022-01-30T14:39:44.653013Z"
    },
    "papermill": {
     "duration": null,
     "end_time": null,
     "exception": null,
     "start_time": null,
     "status": "pending"
    },
    "tags": []
   },
   "outputs": [],
   "source": [
    "trainer1.train()\n",
    "trainer1.evaluate()\n",
    "model_1.cpu()\n",
    "trainer2.train()\n",
    "model_2.cpu()\n",
    "trainer3.train()\n",
    "model_3.cpu()\n",
    "trainer4.train()\n",
    "model_4.cpu()\n",
    "trainer5.train()\n",
    "model_5.cpu()\n",
    "trainer6.train()\n",
    "model_6.cpu()"
   ]
  },
  {
   "cell_type": "markdown",
   "id": "65c4f6d3",
   "metadata": {
    "papermill": {
     "duration": null,
     "end_time": null,
     "exception": null,
     "start_time": null,
     "status": "pending"
    },
    "tags": []
   },
   "source": [
    "### 更换损失函数版本"
   ]
  },
  {
   "cell_type": "markdown",
   "id": "ccbb3ade",
   "metadata": {
    "papermill": {
     "duration": null,
     "end_time": null,
     "exception": null,
     "start_time": null,
     "status": "pending"
    },
    "tags": []
   },
   "source": [
    "计算权重"
   ]
  },
  {
   "cell_type": "code",
   "execution_count": null,
   "id": "6abdf0ac",
   "metadata": {
    "execution": {
     "iopub.execute_input": "2022-01-30T14:41:28.574161Z",
     "iopub.status.busy": "2022-01-30T14:41:28.573853Z",
     "iopub.status.idle": "2022-01-30T14:42:00.462840Z",
     "shell.execute_reply": "2022-01-30T14:42:00.461782Z",
     "shell.execute_reply.started": "2022-01-30T14:41:28.574130Z"
    },
    "papermill": {
     "duration": null,
     "end_time": null,
     "exception": null,
     "start_time": null,
     "status": "pending"
    },
    "tags": []
   },
   "outputs": [],
   "source": [
    "# 统计各类标签数量，用总数/当前类数，以增大比重，也可以用其他方法计算权重\n",
    "l1=l2=l3=l4=l5=l6=0\n",
    "total_num=len(dataset2['train']['labels'])\n",
    "for i in range(total_num):\n",
    "    l1 += dataset2['train']['labels'][i][0]\n",
    "    l2 += dataset2['train']['labels'][i][1]\n",
    "    l3 += dataset2['train']['labels'][i][2]\n",
    "    l4 += dataset2['train']['labels'][i][3]\n",
    "    l5 += dataset2['train']['labels'][i][4]\n",
    "    l6 += dataset2['train']['labels'][i][5]\n",
    "\n",
    "print(l1)\n",
    "print(l2)\n",
    "print(l3)\n",
    "print(l4)\n",
    "print(l5)\n",
    "print(l6)\n",
    "label_weight = torch.FloatTensor([total_num/l1, total_num/l2, total_num/l3, total_num/l4, total_num/l5, total_num/l6]).cuda()"
   ]
  },
  {
   "cell_type": "code",
   "execution_count": null,
   "id": "d4dbb5c2",
   "metadata": {
    "execution": {
     "iopub.execute_input": "2022-01-30T14:42:00.472604Z",
     "iopub.status.busy": "2022-01-30T14:42:00.467613Z",
     "iopub.status.idle": "2022-01-30T14:42:00.554642Z",
     "shell.execute_reply": "2022-01-30T14:42:00.553750Z",
     "shell.execute_reply.started": "2022-01-30T14:42:00.472571Z"
    },
    "papermill": {
     "duration": null,
     "end_time": null,
     "exception": null,
     "start_time": null,
     "status": "pending"
    },
    "tags": []
   },
   "outputs": [],
   "source": [
    "label_weight"
   ]
  },
  {
   "cell_type": "markdown",
   "id": "9d1227d0",
   "metadata": {
    "papermill": {
     "duration": null,
     "end_time": null,
     "exception": null,
     "start_time": null,
     "status": "pending"
    },
    "tags": []
   },
   "source": [
    "DiceLoss损失函数实现"
   ]
  },
  {
   "cell_type": "code",
   "execution_count": null,
   "id": "7563081c",
   "metadata": {
    "execution": {
     "iopub.execute_input": "2022-01-30T14:42:00.557911Z",
     "iopub.status.busy": "2022-01-30T14:42:00.556388Z",
     "iopub.status.idle": "2022-01-30T14:42:00.573643Z",
     "shell.execute_reply": "2022-01-30T14:42:00.572402Z",
     "shell.execute_reply.started": "2022-01-30T14:42:00.557865Z"
    },
    "papermill": {
     "duration": null,
     "end_time": null,
     "exception": null,
     "start_time": null,
     "status": "pending"
    },
    "tags": []
   },
   "outputs": [],
   "source": [
    "import torch\n",
    "import torch.nn as nn\n",
    "# 针对二分类任务的 Dice Loss\n",
    "class DiceLoss(nn.Module):\n",
    "    def __init__(self, size_average=True):\n",
    "        super(DiceLoss, self).__init__()\n",
    "        self.size_average = size_average\n",
    "    def forward(self, input, targets):\n",
    "        # 如果模型最后没有 nn.Sigmoid()，那么这里就需要对预测结果计算一次 Sigmoid 操作\n",
    "        input = nn.Sigmoid()(input)\n",
    "        \n",
    "        # 获取每个批次的大小 N\n",
    "        N = targets.size()[0]\n",
    "        # 平滑变量\n",
    "        smooth = 1\n",
    "        # 将宽高 reshape 到同一纬度\n",
    "        input_flat = input.view(N, -1)\n",
    "        targets_flat = targets.view(N, -1)\n",
    "    \n",
    "        # 计算交集\n",
    "        intersection = input_flat * targets_flat \n",
    "        N_dice_eff = (2 * intersection.sum(1) + smooth) / (input_flat.sum(1) + targets_flat.sum(1) + smooth)\n",
    "        # 计算一个批次中平均每张图的损失\n",
    "        loss = 1 - N_dice_eff.sum() / N\n",
    "        \n",
    "         # Loss Function的常规操作，mean 与 sum 的区别不大，相当于学习率设置不一样而已\n",
    "        if self.size_average:\n",
    "            loss = loss.mean()\n",
    "        else:\n",
    "            loss = loss.sum()\n",
    "        return loss\n",
    "    \n",
    "# 针对 Multi-Label 任务的 Dice Loss\n",
    "class DiceLoss_MultiLabel(nn.Module):\n",
    "    def __init__(self,size_average=True):\n",
    "        super(DiceLoss_MultiLabel, self).__init__()\n",
    "        self.size_average = size_average\n",
    "\n",
    "    def forward(self, pred, target):\n",
    "        criterion = DiceLoss(self.size_average)\n",
    "        loss = torch.zeros(1,target.shape[1]).cuda()\n",
    "\n",
    "        # 对每个 Label 计算一次 Dice Loss\n",
    "        for label in range(target.shape[1]):\n",
    "            batch_loss = criterion(pred[:,label],target[:,label])\n",
    "            loss[0,label] = batch_loss.mean()\n",
    "\n",
    "        # Loss Function的常规操作\n",
    "        if self.size_average:\n",
    "            loss = loss.mean()\n",
    "        else:\n",
    "            loss = loss.sum()\n",
    "\n",
    "        return loss"
   ]
  },
  {
   "cell_type": "markdown",
   "id": "a60a21da",
   "metadata": {
    "papermill": {
     "duration": null,
     "end_time": null,
     "exception": null,
     "start_time": null,
     "status": "pending"
    },
    "tags": []
   },
   "source": [
    "FocalLoss损失函数实现"
   ]
  },
  {
   "cell_type": "code",
   "execution_count": null,
   "id": "cf3fc10c",
   "metadata": {
    "execution": {
     "iopub.execute_input": "2022-01-30T14:42:00.578781Z",
     "iopub.status.busy": "2022-01-30T14:42:00.578315Z",
     "iopub.status.idle": "2022-01-30T14:42:00.606087Z",
     "shell.execute_reply": "2022-01-30T14:42:00.604976Z",
     "shell.execute_reply.started": "2022-01-30T14:42:00.578741Z"
    },
    "papermill": {
     "duration": null,
     "end_time": null,
     "exception": null,
     "start_time": null,
     "status": "pending"
    },
    "tags": []
   },
   "outputs": [],
   "source": [
    "import torch\n",
    "import torch.nn as nn\n",
    "import torch.nn.functional as F\n",
    "# 针对二分类任务的 Focal Loss\n",
    "class FocalLoss(nn.Module):\n",
    "    def __init__(self, alpha=0.25, gamma=2, size_average=True):\n",
    "        super(FocalLoss, self).__init__()\n",
    "        self.alpha = torch.tensor(alpha).cuda()\n",
    "        self.gamma = gamma\n",
    "        self.size_average = size_average\n",
    "\n",
    "    def forward(self, pred, target):\n",
    "        # 如果模型最后没有 nn.Sigmoid()，那么这里就需要对预测结果计算一次 Sigmoid 操作\n",
    "        pred = nn.Sigmoid()(pred)\n",
    "\n",
    "        # 展开 pred 和 target,此时 pred.size = target.size = (BatchSize,1) \n",
    "        pred = pred.view(-1,1)\n",
    "        target = target.view(-1,1)\n",
    "\n",
    "        # 此处将预测样本为正负的概率都计算出来，此时 pred.size = (BatchSize,2)\n",
    "        pred = torch.cat((1-pred,pred),dim=1)\n",
    "\n",
    "        # 根据 target 生成 mask，即根据 ground truth 选择所需概率\n",
    "        # 用大白话讲就是：\n",
    "        # 当标签为 1 时，我们就将模型预测该样本为正类的概率代入公式中进行计算\n",
    "        # 当标签为 0 时，我们就将模型预测该样本为负类的概率代入公式中进行计算\n",
    "        class_mask = torch.zeros(pred.shape[0],pred.shape[1]).cuda()\n",
    "        # 这里的 scatter_ 操作不常用，其函数原型为:\n",
    "        # scatter_(dim,index,src)->Tensor\n",
    "        # Writes all values from the tensor src into self at the indices specified in the index tensor. \n",
    "        # For each value in src, its output index is specified by its index in src for dimension != dim and by the corresponding value in index for dimension = dim.\n",
    "        class_mask.scatter_(1, target.view(-1, 1).long(), 1.)\n",
    "\n",
    "        # 利用 mask 将所需概率值挑选出来\n",
    "        probs = (pred * class_mask).sum(dim=1).view(-1,1)\n",
    "        probs = probs.clamp(min=0.0001,max=1.0)\n",
    "\n",
    "        # 计算概率的 log 值\n",
    "        log_p = probs.log()\n",
    "\n",
    "        # 根据论文中所述，对 alpha　进行设置（该参数用于调整正负样本数量不均衡带来的问题）\n",
    "        alpha = torch.ones(pred.shape[0],pred.shape[1]).cuda()\n",
    "        alpha[:,0] = alpha[:,0] * (1-self.alpha)\n",
    "        alpha[:,1] = alpha[:,1] * self.alpha\n",
    "        alpha = (alpha * class_mask).sum(dim=1).view(-1,1)\n",
    "\n",
    "        # 根据 Focal Loss 的公式计算 Loss\n",
    "        batch_loss = -alpha*(torch.pow((1-probs), self.gamma))*log_p\n",
    "\n",
    "         # Loss Function的常规操作，mean 与 sum 的区别不大，相当于学习率设置不一样而已\n",
    "        if self.size_average:\n",
    "            loss = batch_loss.mean()\n",
    "        else:\n",
    "            loss = batch_loss.sum()\n",
    "\n",
    "        return loss\n",
    "\n",
    "# 针对 Multi-Label 任务的 Focal Loss\n",
    "class FocalLoss_MultiLabel(nn.Module):\n",
    "    def __init__(self, alpha=0.25, gamma=2, size_average=True):\n",
    "        super(FocalLoss_MultiLabel, self).__init__()\n",
    "        self.alpha = alpha\n",
    "        self.gamma = gamma\n",
    "        self.size_average = size_average\n",
    "\n",
    "    def forward(self, pred, target):\n",
    "        criterion = FocalLoss(self.alpha,self.gamma,self.size_average)\n",
    "        loss = torch.zeros(1,target.shape[1]).cuda()\n",
    "\n",
    "        # 对每个 Label 计算一次 Focal Loss\n",
    "        for label in range(target.shape[1]):\n",
    "            batch_loss = criterion(pred[:,label],target[:,label])\n",
    "            loss[0,label] = batch_loss.mean()\n",
    "\n",
    "        # Loss Function的常规操作\n",
    "        if self.size_average:\n",
    "            loss = loss.mean()\n",
    "        else:\n",
    "            loss = loss.sum()\n",
    "\n",
    "        return loss"
   ]
  },
  {
   "cell_type": "code",
   "execution_count": null,
   "id": "4e249288",
   "metadata": {
    "execution": {
     "iopub.execute_input": "2022-01-30T15:18:58.869370Z",
     "iopub.status.busy": "2022-01-30T15:18:58.868955Z",
     "iopub.status.idle": "2022-01-30T15:19:02.115299Z",
     "shell.execute_reply": "2022-01-30T15:19:02.114349Z",
     "shell.execute_reply.started": "2022-01-30T15:18:58.869308Z"
    },
    "papermill": {
     "duration": null,
     "end_time": null,
     "exception": null,
     "start_time": null,
     "status": "pending"
    },
    "tags": []
   },
   "outputs": [],
   "source": [
    "from transformers import DistilBertModel, BertModel\n",
    "from torch.nn import MSELoss,CrossEntropyLoss,BCEWithLogitsLoss\n",
    "class DistilBERTClass(torch.nn.Module):\n",
    "    def __init__(self,num_labels=6):\n",
    "        super(DistilBERTClass, self).__init__()\n",
    "        self.bert = BertModel.from_pretrained(model_checkpoint)\n",
    "        self.config=self.bert.config\n",
    "        self.num_labels=num_labels\n",
    "        self.pre_classifier = torch.nn.Linear(768, 768)\n",
    "        self.dropout = torch.nn.Dropout(0.1)\n",
    "        self.classifier = torch.nn.Linear(768, num_labels)\n",
    "    def forward(\n",
    "        self,\n",
    "        input_ids=None,\n",
    "        attention_mask=None,\n",
    "        token_type_ids=None,\n",
    "        position_ids=None,\n",
    "        head_mask=None,\n",
    "        inputs_embeds=None,\n",
    "        labels=None,\n",
    "        output_attentions=None,\n",
    "        output_hidden_states=None,\n",
    "        return_dict=None,\n",
    "    ):\n",
    "        return_dict = return_dict if return_dict is not None else self.config.use_return_dict\n",
    "\n",
    "        outputs = self.bert(\n",
    "            input_ids,\n",
    "            attention_mask=attention_mask,\n",
    "            token_type_ids=token_type_ids,\n",
    "            position_ids=position_ids,\n",
    "            head_mask=head_mask,\n",
    "            inputs_embeds=inputs_embeds,\n",
    "            output_attentions=output_attentions,\n",
    "            output_hidden_states=output_hidden_states,\n",
    "            return_dict=return_dict,\n",
    "        )\n",
    "\n",
    "        pooled_output = outputs[1]\n",
    "        \n",
    "        pooled_output = self.pre_classifier(pooled_output)\n",
    "        pooled_output = self.dropout(pooled_output)\n",
    "        logits = self.classifier(pooled_output)\n",
    "        \n",
    "        loss = None\n",
    "        if labels is not None:\n",
    "            if self.config.problem_type is None:\n",
    "                if self.num_labels == 1:\n",
    "                    self.config.problem_type = \"regression\"\n",
    "                elif self.num_labels > 1 and (labels.dtype == torch.long or labels.dtype == torch.int):\n",
    "                    self.config.problem_type = \"single_label_classification\"\n",
    "                else:\n",
    "                    self.config.problem_type = \"multi_label_classification\"\n",
    "\n",
    "            if self.config.problem_type == \"regression\":\n",
    "                loss_fct = MSELoss()\n",
    "                if self.num_labels == 1:\n",
    "                    loss = loss_fct(logits.squeeze(), labels.squeeze()) \n",
    "                else:\n",
    "                    loss = loss_fct(logits, labels)\n",
    "            elif self.config.problem_type == \"single_label_classification\":\n",
    "                loss_fct = CrossEntropyLoss()\n",
    "                loss = loss_fct(logits.view(-1, self.num_labels), labels.view(-1))\n",
    "            elif self.config.problem_type == \"multi_label_classification\":\n",
    "                loss_fct = FocalLoss_MultiLabel() #DiceLoss_MultiLabel()#BCEWithLogitsLoss(weight=label_weight,reduction='mean') #BCEWithLogitsLoss()      \n",
    "                loss = loss_fct(logits, labels)\n",
    "        if not return_dict:\n",
    "            output = (logits,) + outputs[2:]\n",
    "            return ((loss,) + output) if loss is not None else output\n",
    "#         print(self.config.problem_type)\n",
    "        output = (logits,) + outputs[2:]\n",
    "        return ((loss,) + output) if loss is not None else output\n",
    "        \n",
    "        \n",
    "#         output_1 = self.l1(input_ids=input_ids, attention_mask=attention_mask)\n",
    "#         hidden_state = output_1[0]\n",
    "#         pooler = hidden_state[:, 0]\n",
    "#         pooler = self.pre_classifier(pooler)\n",
    "#         pooler = torch.nn.ReLU()(pooler)\n",
    "#         pooler = self.dropout(pooler)\n",
    "#         output = self.classifier(pooler)\n",
    "#         return output\n",
    "\n",
    "model2=DistilBERTClass()"
   ]
  },
  {
   "cell_type": "markdown",
   "id": "1623a2d4",
   "metadata": {
    "papermill": {
     "duration": null,
     "end_time": null,
     "exception": null,
     "start_time": null,
     "status": "pending"
    },
    "tags": []
   },
   "source": [
    "训练参数"
   ]
  },
  {
   "cell_type": "code",
   "execution_count": null,
   "id": "8c00ad78",
   "metadata": {
    "execution": {
     "iopub.execute_input": "2022-01-30T15:19:02.117964Z",
     "iopub.status.busy": "2022-01-30T15:19:02.117561Z",
     "iopub.status.idle": "2022-01-30T15:19:02.132036Z",
     "shell.execute_reply": "2022-01-30T15:19:02.130721Z",
     "shell.execute_reply.started": "2022-01-30T15:19:02.117919Z"
    },
    "papermill": {
     "duration": null,
     "end_time": null,
     "exception": null,
     "start_time": null,
     "status": "pending"
    },
    "tags": []
   },
   "outputs": [],
   "source": [
    "from transformers import TrainingArguments,Trainer\n",
    "metric_name = \"macro-f1 score\"\n",
    "model_name = model_checkpoint.split(\"/\")[-1]\n",
    "\n",
    "args = TrainingArguments(\n",
    "    f\"{model_name}-finetuned-{task}\",\n",
    "    evaluation_strategy = \"epoch\",\n",
    "    save_strategy = \"epoch\",\n",
    "    learning_rate=2e-5,\n",
    "    save_total_limit = 3,\n",
    "    per_device_train_batch_size=batch_size,\n",
    "    per_device_eval_batch_size=batch_size,\n",
    "    num_train_epochs=8,\n",
    "    weight_decay=0.01,\n",
    "    load_best_model_at_end=True,\n",
    "    metric_for_best_model=metric_name,\n",
    "#     push_to_hub=True,\n",
    ")"
   ]
  },
  {
   "cell_type": "markdown",
   "id": "74204441",
   "metadata": {
    "papermill": {
     "duration": null,
     "end_time": null,
     "exception": null,
     "start_time": null,
     "status": "pending"
    },
    "tags": []
   },
   "source": [
    "评估函数"
   ]
  },
  {
   "cell_type": "code",
   "execution_count": null,
   "id": "7009049d",
   "metadata": {
    "execution": {
     "iopub.execute_input": "2022-01-30T15:19:02.135315Z",
     "iopub.status.busy": "2022-01-30T15:19:02.134088Z",
     "iopub.status.idle": "2022-01-30T15:19:02.146436Z",
     "shell.execute_reply": "2022-01-30T15:19:02.145398Z",
     "shell.execute_reply.started": "2022-01-30T15:19:02.135175Z"
    },
    "papermill": {
     "duration": null,
     "end_time": null,
     "exception": null,
     "start_time": null,
     "status": "pending"
    },
    "tags": []
   },
   "outputs": [],
   "source": [
    "m = nn.Sigmoid()\n",
    "from sklearn.metrics import f1_score,accuracy_score\n",
    "def compute_metrics2(eval_pred):\n",
    "    y_pred, y_true = eval_pred\n",
    "    y_pred = m(torch.tensor(y_pred))\n",
    "    y_pred = np.int64(y_pred>=0.5)\n",
    "#     y_pred = np.array(y_pred) >=0.5\n",
    "#     y_pred = list(map(list, zip(*y_pred)))      #转置\n",
    "#     y_true = list(map(list, zip(*y_true)))      #转置\n",
    "    ans = f1_score(y_true, y_pred,average='macro')\n",
    "    acc = accuracy_score(y_true, y_pred)\n",
    "    return{'macro-f1 score':ans,'accuracy': acc}"
   ]
  },
  {
   "cell_type": "markdown",
   "id": "9eea1193",
   "metadata": {
    "papermill": {
     "duration": null,
     "end_time": null,
     "exception": null,
     "start_time": null,
     "status": "pending"
    },
    "tags": []
   },
   "source": [
    "训练器"
   ]
  },
  {
   "cell_type": "code",
   "execution_count": null,
   "id": "6bb7a26b",
   "metadata": {
    "execution": {
     "iopub.execute_input": "2022-01-30T15:19:02.845779Z",
     "iopub.status.busy": "2022-01-30T15:19:02.845423Z",
     "iopub.status.idle": "2022-01-30T15:19:02.856111Z",
     "shell.execute_reply": "2022-01-30T15:19:02.854868Z",
     "shell.execute_reply.started": "2022-01-30T15:19:02.845741Z"
    },
    "papermill": {
     "duration": null,
     "end_time": null,
     "exception": null,
     "start_time": null,
     "status": "pending"
    },
    "tags": []
   },
   "outputs": [],
   "source": [
    "encoded_dataset2[\"train\"]"
   ]
  },
  {
   "cell_type": "code",
   "execution_count": null,
   "id": "6ee971ac",
   "metadata": {
    "execution": {
     "iopub.execute_input": "2022-01-30T15:19:03.030247Z",
     "iopub.status.busy": "2022-01-30T15:19:03.029947Z",
     "iopub.status.idle": "2022-01-30T15:19:03.182080Z",
     "shell.execute_reply": "2022-01-30T15:19:03.181068Z",
     "shell.execute_reply.started": "2022-01-30T15:19:03.030216Z"
    },
    "papermill": {
     "duration": null,
     "end_time": null,
     "exception": null,
     "start_time": null,
     "status": "pending"
    },
    "tags": []
   },
   "outputs": [],
   "source": [
    "trainer = Trainer(\n",
    "    model2,\n",
    "    args,\n",
    "    train_dataset=encoded_dataset2[\"train\"],\n",
    "    eval_dataset=encoded_dataset2[\"test\"],\n",
    "    tokenizer=tokenizer,\n",
    "    compute_metrics=compute_metrics2\n",
    ")"
   ]
  },
  {
   "cell_type": "code",
   "execution_count": null,
   "id": "c71f7d2a",
   "metadata": {
    "execution": {
     "iopub.execute_input": "2022-01-30T15:19:03.251162Z",
     "iopub.status.busy": "2022-01-30T15:19:03.250876Z",
     "iopub.status.idle": "2022-01-30T15:22:26.281976Z",
     "shell.execute_reply": "2022-01-30T15:22:26.280927Z",
     "shell.execute_reply.started": "2022-01-30T15:19:03.251127Z"
    },
    "papermill": {
     "duration": null,
     "end_time": null,
     "exception": null,
     "start_time": null,
     "status": "pending"
    },
    "tags": []
   },
   "outputs": [],
   "source": [
    "trainer.train()"
   ]
  },
  {
   "cell_type": "code",
   "execution_count": null,
   "id": "77667aea",
   "metadata": {
    "execution": {
     "iopub.execute_input": "2022-01-30T15:22:26.291121Z",
     "iopub.status.busy": "2022-01-30T15:22:26.283850Z",
     "iopub.status.idle": "2022-01-30T15:22:26.750546Z",
     "shell.execute_reply": "2022-01-30T15:22:26.749659Z",
     "shell.execute_reply.started": "2022-01-30T15:22:26.291017Z"
    },
    "papermill": {
     "duration": null,
     "end_time": null,
     "exception": null,
     "start_time": null,
     "status": "pending"
    },
    "tags": []
   },
   "outputs": [],
   "source": [
    "trainer.evaluate()"
   ]
  },
  {
   "cell_type": "markdown",
   "id": "220e2140",
   "metadata": {
    "papermill": {
     "duration": null,
     "end_time": null,
     "exception": null,
     "start_time": null,
     "status": "pending"
    },
    "tags": []
   },
   "source": [
    "保存模型"
   ]
  },
  {
   "cell_type": "code",
   "execution_count": null,
   "id": "20ad6579",
   "metadata": {
    "execution": {
     "iopub.execute_input": "2022-01-30T14:46:08.002935Z",
     "iopub.status.busy": "2022-01-30T14:46:08.001414Z",
     "iopub.status.idle": "2022-01-30T14:46:10.135372Z",
     "shell.execute_reply": "2022-01-30T14:46:10.134195Z",
     "shell.execute_reply.started": "2022-01-30T14:46:08.002880Z"
    },
    "papermill": {
     "duration": null,
     "end_time": null,
     "exception": null,
     "start_time": null,
     "status": "pending"
    },
    "tags": []
   },
   "outputs": [],
   "source": [
    "torch.save(model2,\"mlpl2.pkl\")\n"
   ]
  },
  {
   "cell_type": "markdown",
   "id": "c9849989",
   "metadata": {
    "papermill": {
     "duration": null,
     "end_time": null,
     "exception": null,
     "start_time": null,
     "status": "pending"
    },
    "tags": []
   },
   "source": [
    "# Task C"
   ]
  },
  {
   "cell_type": "code",
   "execution_count": null,
   "id": "5a1d4c27",
   "metadata": {
    "execution": {
     "iopub.status.busy": "2022-01-30T14:39:44.684260Z",
     "iopub.status.idle": "2022-01-30T14:39:44.685097Z",
     "shell.execute_reply": "2022-01-30T14:39:44.684807Z",
     "shell.execute_reply.started": "2022-01-30T14:39:44.684774Z"
    },
    "papermill": {
     "duration": null,
     "end_time": null,
     "exception": null,
     "start_time": null,
     "status": "pending"
    },
    "tags": []
   },
   "outputs": [],
   "source": [
    "task = \"mrpc\""
   ]
  },
  {
   "cell_type": "markdown",
   "id": "6d0e2306",
   "metadata": {
    "papermill": {
     "duration": null,
     "end_time": null,
     "exception": null,
     "start_time": null,
     "status": "pending"
    },
    "tags": []
   },
   "source": [
    "## 处理数据"
   ]
  },
  {
   "cell_type": "markdown",
   "id": "e9786546",
   "metadata": {
    "papermill": {
     "duration": null,
     "end_time": null,
     "exception": null,
     "start_time": null,
     "status": "pending"
    },
    "tags": []
   },
   "source": [
    "866个英文有重述版本\n",
    "\n",
    "500个阿拉伯语有重述版本"
   ]
  },
  {
   "cell_type": "markdown",
   "id": "7f00398c",
   "metadata": {
    "papermill": {
     "duration": null,
     "end_time": null,
     "exception": null,
     "start_time": null,
     "status": "pending"
    },
    "tags": []
   },
   "source": [
    "分开训练，不然会有问题"
   ]
  },
  {
   "cell_type": "markdown",
   "id": "0b5f1884",
   "metadata": {
    "papermill": {
     "duration": null,
     "end_time": null,
     "exception": null,
     "start_time": null,
     "status": "pending"
    },
    "tags": []
   },
   "source": [
    "清理文本"
   ]
  },
  {
   "cell_type": "code",
   "execution_count": null,
   "id": "1adbe1a4",
   "metadata": {
    "execution": {
     "iopub.status.busy": "2022-01-30T14:39:44.686729Z",
     "iopub.status.idle": "2022-01-30T14:39:44.687512Z",
     "shell.execute_reply": "2022-01-30T14:39:44.687248Z",
     "shell.execute_reply.started": "2022-01-30T14:39:44.687216Z"
    },
    "papermill": {
     "duration": null,
     "end_time": null,
     "exception": null,
     "start_time": null,
     "status": "pending"
    },
    "tags": []
   },
   "outputs": [],
   "source": [
    "def clearTexts2(data):\n",
    "    # Get the number of Texts based on the dataframe column size\n",
    "    global num_Texts\n",
    "    # Initialize an empty list to hold the clean Texts\n",
    "    print(\"Cleaning and parsing the training set Texts...\\n\")\n",
    "    # Loop over each Text; create an index i that goes from 0 to the length# of the Text list \n",
    "    for i in range( 0, num_Texts ):\n",
    "        # If the index is evenly divisible by 300, print a message\n",
    "        if( (i+1)%300 == 0 ):\n",
    "            print(\"Text %d of %d\\n\" % ( i+1, num_Texts ))   \n",
    "        # Call our function for each one, and add the result to the list of    # clean Texts\n",
    "        clean_tweet_Texts.append( clearTextFunc( data[\"tweet\"][i] ))\n",
    "        clean_rephrase_Texts.append( clearTextFunc( data[\"rephrase\"][i] ))"
   ]
  },
  {
   "cell_type": "code",
   "execution_count": null,
   "id": "15ea5654",
   "metadata": {
    "execution": {
     "iopub.status.busy": "2022-01-30T14:39:44.689090Z",
     "iopub.status.idle": "2022-01-30T14:39:44.689897Z",
     "shell.execute_reply": "2022-01-30T14:39:44.689593Z",
     "shell.execute_reply.started": "2022-01-30T14:39:44.689561Z"
    },
    "papermill": {
     "duration": null,
     "end_time": null,
     "exception": null,
     "start_time": null,
     "status": "pending"
    },
    "tags": []
   },
   "outputs": [],
   "source": [
    "clean_tweet_Texts=[]\n",
    "clean_rephrase_Texts=[]\n",
    "num_Texts=866\n",
    "clearTexts2(En_data)\n",
    "clean_tweet_Texts_En=clean_tweet_Texts\n",
    "clean_rephrase_Texts_En=clean_rephrase_Texts\n",
    "\n",
    "\n",
    "clean_tweet_Texts=[]\n",
    "clean_rephrase_Texts=[]\n",
    "num_Texts=500\n",
    "clearTexts2(Ar_data)\n",
    "clean_tweet_Texts_Ar=clean_tweet_Texts\n",
    "clean_rephrase_Texts_Ar=clean_rephrase_Texts"
   ]
  },
  {
   "cell_type": "code",
   "execution_count": null,
   "id": "73e6f90a",
   "metadata": {
    "execution": {
     "iopub.status.busy": "2022-01-30T14:39:44.691432Z",
     "iopub.status.idle": "2022-01-30T14:39:44.692264Z",
     "shell.execute_reply": "2022-01-30T14:39:44.691969Z",
     "shell.execute_reply.started": "2022-01-30T14:39:44.691938Z"
    },
    "papermill": {
     "duration": null,
     "end_time": null,
     "exception": null,
     "start_time": null,
     "status": "pending"
    },
    "tags": []
   },
   "outputs": [],
   "source": [
    "train_En=[]\n",
    "for i in range(866):\n",
    "    train_En.append([clean_rephrase_Texts_En[i],clean_tweet_Texts_En[i]])\n",
    "    train_En.append([clean_tweet_Texts_En[i],clean_rephrase_Texts_En[i]])\n",
    "\n",
    "train_Ar=[]\n",
    "for i in range(500):\n",
    "    train_Ar.append([clean_rephrase_Texts_Ar[i],clean_tweet_Texts_Ar[i]])\n",
    "    train_Ar.append([clean_tweet_Texts_Ar[i],clean_rephrase_Texts_Ar[i]])"
   ]
  },
  {
   "cell_type": "markdown",
   "id": "fcdce97a",
   "metadata": {
    "papermill": {
     "duration": null,
     "end_time": null,
     "exception": null,
     "start_time": null,
     "status": "pending"
    },
    "tags": []
   },
   "source": [
    "处理标签"
   ]
  },
  {
   "cell_type": "code",
   "execution_count": null,
   "id": "810f1f6e",
   "metadata": {
    "execution": {
     "iopub.status.busy": "2022-01-30T14:39:44.693872Z",
     "iopub.status.idle": "2022-01-30T14:39:44.694675Z",
     "shell.execute_reply": "2022-01-30T14:39:44.694406Z",
     "shell.execute_reply.started": "2022-01-30T14:39:44.694374Z"
    },
    "papermill": {
     "duration": null,
     "end_time": null,
     "exception": null,
     "start_time": null,
     "status": "pending"
    },
    "tags": []
   },
   "outputs": [],
   "source": [
    "import numpy as np\n",
    "import torch\n",
    "\n",
    "label_En = []\n",
    "for i in range(866):\n",
    "    label_En.append(1)\n",
    "    label_En.append(0)\n",
    "label_En=np.array(label_En)\n",
    "label_En = label_En.reshape(1732,1)\n",
    "print(label_En.shape)\n",
    "\n",
    "\n",
    "label_Ar = []\n",
    "for i in range(500):\n",
    "    label_Ar.append(1)\n",
    "    label_Ar.append(0)\n",
    "    \n",
    "label_Ar=np.array(label_Ar)\n",
    "label_Ar = label_Ar.reshape(1000,1)\n",
    "print(label_Ar.shape)"
   ]
  },
  {
   "cell_type": "markdown",
   "id": "5bb2f95a",
   "metadata": {
    "papermill": {
     "duration": null,
     "end_time": null,
     "exception": null,
     "start_time": null,
     "status": "pending"
    },
    "tags": []
   },
   "source": [
    "## 划分数据集"
   ]
  },
  {
   "cell_type": "code",
   "execution_count": null,
   "id": "5daf896c",
   "metadata": {
    "execution": {
     "iopub.status.busy": "2022-01-30T14:39:44.696282Z",
     "iopub.status.idle": "2022-01-30T14:39:44.697104Z",
     "shell.execute_reply": "2022-01-30T14:39:44.696818Z",
     "shell.execute_reply.started": "2022-01-30T14:39:44.696787Z"
    },
    "papermill": {
     "duration": null,
     "end_time": null,
     "exception": null,
     "start_time": null,
     "status": "pending"
    },
    "tags": []
   },
   "outputs": [],
   "source": [
    "from sklearn.model_selection import train_test_split\n",
    "train_En_X,test_En_X, train_En_y, test_En_y = train_test_split(train_En, label_En, test_size = 0.2, random_state = 0)\n",
    "train_Ar_X,test_Ar_X, train_Ar_y, test_Ar_y = train_test_split(train_Ar, label_Ar, test_size = 0.2, random_state = 0)"
   ]
  },
  {
   "cell_type": "code",
   "execution_count": null,
   "id": "30e628d3",
   "metadata": {
    "execution": {
     "iopub.status.busy": "2022-01-30T14:39:44.698656Z",
     "iopub.status.idle": "2022-01-30T14:39:44.699487Z",
     "shell.execute_reply": "2022-01-30T14:39:44.699215Z",
     "shell.execute_reply.started": "2022-01-30T14:39:44.699183Z"
    },
    "papermill": {
     "duration": null,
     "end_time": null,
     "exception": null,
     "start_time": null,
     "status": "pending"
    },
    "tags": []
   },
   "outputs": [],
   "source": [
    "train_En_X_s={'s1':[],'s2':[]}\n",
    "n=len(train_En_y)\n",
    "for i in range(n):\n",
    "    train_En_X_s['s1'].append(train_En_X[i][0])\n",
    "    train_En_X_s['s2'].append(train_En_X[i][1])\n",
    "    \n",
    "train_Ar_X_s={'s1':[],'s2':[]}\n",
    "n=len(train_Ar_y)\n",
    "for i in range(n):\n",
    "    train_Ar_X_s['s1'].append(train_Ar_X[i][0])\n",
    "    train_Ar_X_s['s2'].append(train_Ar_X[i][1])\n",
    "    \n",
    "test_En_X_s={'s1':[],'s2':[]}\n",
    "n=len(test_En_y)\n",
    "for i in range(n):\n",
    "    test_En_X_s['s1'].append(test_En_X[i][0])\n",
    "    test_En_X_s['s2'].append(test_En_X[i][1])\n",
    "\n",
    "test_Ar_X_s={'s1':[],'s2':[]}\n",
    "n=len(test_Ar_y)\n",
    "for i in range(n):\n",
    "    test_Ar_X_s['s1'].append(test_Ar_X[i][0])\n",
    "    test_Ar_X_s['s2'].append(test_Ar_X[i][1])"
   ]
  },
  {
   "cell_type": "code",
   "execution_count": null,
   "id": "ea727bc1",
   "metadata": {
    "execution": {
     "iopub.status.busy": "2022-01-30T14:39:44.701046Z",
     "iopub.status.idle": "2022-01-30T14:39:44.701888Z",
     "shell.execute_reply": "2022-01-30T14:39:44.701588Z",
     "shell.execute_reply.started": "2022-01-30T14:39:44.701555Z"
    },
    "papermill": {
     "duration": null,
     "end_time": null,
     "exception": null,
     "start_time": null,
     "status": "pending"
    },
    "tags": []
   },
   "outputs": [],
   "source": [
    "from datasets import Dataset,DatasetDict\n",
    "dataset_En = DatasetDict({'train':Dataset.from_dict({\"sentence1\": train_En_X_s['s1'], \"sentence2\": train_En_X_s['s2'], 'label':train_En_y}),'test':Dataset.from_dict({\"sentence1\": test_En_X_s['s1'], \"sentence2\": test_En_X_s['s2'], 'label':test_En_y})})\n",
    "dataset_Ar = DatasetDict({'train':Dataset.from_dict({\"sentence1\": train_Ar_X_s['s1'], \"sentence2\": train_Ar_X_s['s2'], 'label':train_Ar_y}),'test':Dataset.from_dict({\"sentence1\": test_Ar_X_s['s1'], \"sentence2\": test_Ar_X_s['s2'], 'label':test_Ar_y})})"
   ]
  },
  {
   "cell_type": "code",
   "execution_count": null,
   "id": "25e3509e",
   "metadata": {
    "execution": {
     "iopub.status.busy": "2022-01-30T14:39:44.703487Z",
     "iopub.status.idle": "2022-01-30T14:39:44.704323Z",
     "shell.execute_reply": "2022-01-30T14:39:44.704043Z",
     "shell.execute_reply.started": "2022-01-30T14:39:44.704006Z"
    },
    "papermill": {
     "duration": null,
     "end_time": null,
     "exception": null,
     "start_time": null,
     "status": "pending"
    },
    "tags": []
   },
   "outputs": [],
   "source": [
    "dataset_Ar"
   ]
  },
  {
   "cell_type": "code",
   "execution_count": null,
   "id": "e659260b",
   "metadata": {
    "execution": {
     "iopub.status.busy": "2022-01-30T14:39:44.705864Z",
     "iopub.status.idle": "2022-01-30T14:39:44.706680Z",
     "shell.execute_reply": "2022-01-30T14:39:44.706408Z",
     "shell.execute_reply.started": "2022-01-30T14:39:44.706378Z"
    },
    "papermill": {
     "duration": null,
     "end_time": null,
     "exception": null,
     "start_time": null,
     "status": "pending"
    },
    "tags": []
   },
   "outputs": [],
   "source": [
    "show_random_elements(dataset_Ar['train'])"
   ]
  },
  {
   "cell_type": "markdown",
   "id": "3b7fe83e",
   "metadata": {
    "papermill": {
     "duration": null,
     "end_time": null,
     "exception": null,
     "start_time": null,
     "status": "pending"
    },
    "tags": []
   },
   "source": [
    "## 分词"
   ]
  },
  {
   "cell_type": "code",
   "execution_count": null,
   "id": "fb2d2e04",
   "metadata": {
    "execution": {
     "iopub.status.busy": "2022-01-30T14:39:44.708291Z",
     "iopub.status.idle": "2022-01-30T14:39:44.709102Z",
     "shell.execute_reply": "2022-01-30T14:39:44.708820Z",
     "shell.execute_reply.started": "2022-01-30T14:39:44.708788Z"
    },
    "papermill": {
     "duration": null,
     "end_time": null,
     "exception": null,
     "start_time": null,
     "status": "pending"
    },
    "tags": []
   },
   "outputs": [],
   "source": [
    "sentence1_key, sentence2_key = task_to_keys[task]\n",
    "encoded_dataset_En = dataset_En.map(preprocess_function, batched=True)\n",
    "encoded_dataset_Ar = dataset_Ar.map(preprocess_function, batched=True)"
   ]
  },
  {
   "cell_type": "code",
   "execution_count": null,
   "id": "665e111f",
   "metadata": {
    "execution": {
     "iopub.status.busy": "2022-01-30T14:39:44.710623Z",
     "iopub.status.idle": "2022-01-30T14:39:44.711475Z",
     "shell.execute_reply": "2022-01-30T14:39:44.711204Z",
     "shell.execute_reply.started": "2022-01-30T14:39:44.711173Z"
    },
    "papermill": {
     "duration": null,
     "end_time": null,
     "exception": null,
     "start_time": null,
     "status": "pending"
    },
    "tags": []
   },
   "outputs": [],
   "source": [
    "encoded_dataset_Ar['test']"
   ]
  },
  {
   "cell_type": "markdown",
   "id": "09280ccc",
   "metadata": {
    "papermill": {
     "duration": null,
     "end_time": null,
     "exception": null,
     "start_time": null,
     "status": "pending"
    },
    "tags": []
   },
   "source": [
    "## Fine-tuning the model"
   ]
  },
  {
   "cell_type": "code",
   "execution_count": null,
   "id": "f009f424",
   "metadata": {
    "execution": {
     "iopub.status.busy": "2022-01-30T14:39:44.713032Z",
     "iopub.status.idle": "2022-01-30T14:39:44.713885Z",
     "shell.execute_reply": "2022-01-30T14:39:44.713589Z",
     "shell.execute_reply.started": "2022-01-30T14:39:44.713558Z"
    },
    "papermill": {
     "duration": null,
     "end_time": null,
     "exception": null,
     "start_time": null,
     "status": "pending"
    },
    "tags": []
   },
   "outputs": [],
   "source": [
    "from transformers import AutoModelForSequenceClassification, TrainingArguments, Trainer\n",
    "\n",
    "num_labels = 2\n",
    "model3 = AutoModelForSequenceClassification.from_pretrained(\"bert-base-multilingual-uncased\", num_labels=num_labels)"
   ]
  },
  {
   "cell_type": "markdown",
   "id": "1e08ec02",
   "metadata": {
    "papermill": {
     "duration": null,
     "end_time": null,
     "exception": null,
     "start_time": null,
     "status": "pending"
    },
    "tags": []
   },
   "source": [
    "训练参数"
   ]
  },
  {
   "cell_type": "code",
   "execution_count": null,
   "id": "a46bb4ac",
   "metadata": {
    "execution": {
     "iopub.status.busy": "2022-01-30T14:39:44.715432Z",
     "iopub.status.idle": "2022-01-30T14:39:44.716267Z",
     "shell.execute_reply": "2022-01-30T14:39:44.715978Z",
     "shell.execute_reply.started": "2022-01-30T14:39:44.715947Z"
    },
    "papermill": {
     "duration": null,
     "end_time": null,
     "exception": null,
     "start_time": null,
     "status": "pending"
    },
    "tags": []
   },
   "outputs": [],
   "source": [
    "metric_name = \"accuracy\"\n",
    "model_name = model_checkpoint.split(\"/\")[-1]\n",
    "\n",
    "args = TrainingArguments(\n",
    "    f\"{model_name}-finetuned-{task}\",\n",
    "    evaluation_strategy = \"epoch\",\n",
    "    save_strategy = \"epoch\",\n",
    "    save_total_limit = 3,\n",
    "    learning_rate=2e-5,\n",
    "    per_device_train_batch_size=batch_size,\n",
    "    per_device_eval_batch_size=batch_size,\n",
    "    num_train_epochs=8,\n",
    "    weight_decay=0.01,\n",
    "    load_best_model_at_end=True,\n",
    "    metric_for_best_model=metric_name,\n",
    "#     push_to_hub=True,\n",
    ")"
   ]
  },
  {
   "cell_type": "markdown",
   "id": "70af73b5",
   "metadata": {
    "papermill": {
     "duration": null,
     "end_time": null,
     "exception": null,
     "start_time": null,
     "status": "pending"
    },
    "tags": []
   },
   "source": [
    "评估函数"
   ]
  },
  {
   "cell_type": "code",
   "execution_count": null,
   "id": "3f128d73",
   "metadata": {
    "execution": {
     "iopub.status.busy": "2022-01-30T14:39:44.717827Z",
     "iopub.status.idle": "2022-01-30T14:39:44.718638Z",
     "shell.execute_reply": "2022-01-30T14:39:44.718361Z",
     "shell.execute_reply.started": "2022-01-30T14:39:44.718330Z"
    },
    "papermill": {
     "duration": null,
     "end_time": null,
     "exception": null,
     "start_time": null,
     "status": "pending"
    },
    "tags": []
   },
   "outputs": [],
   "source": [
    "from sklearn.metrics import accuracy_score\n",
    "def compute_metrics3(eval_pred):\n",
    "    y_pred, y_true = eval_pred\n",
    "    y_pred = np.argmax(y_pred, axis=1)\n",
    "    acc = accuracy_score(y_true, y_pred)\n",
    "    return{'accuracy': acc}"
   ]
  },
  {
   "cell_type": "markdown",
   "id": "11eb4e91",
   "metadata": {
    "papermill": {
     "duration": null,
     "end_time": null,
     "exception": null,
     "start_time": null,
     "status": "pending"
    },
    "tags": []
   },
   "source": [
    "训练器"
   ]
  },
  {
   "cell_type": "code",
   "execution_count": null,
   "id": "4cf0d7a3",
   "metadata": {
    "execution": {
     "iopub.status.busy": "2022-01-30T14:39:44.720373Z",
     "iopub.status.idle": "2022-01-30T14:39:44.721176Z",
     "shell.execute_reply": "2022-01-30T14:39:44.720900Z",
     "shell.execute_reply.started": "2022-01-30T14:39:44.720868Z"
    },
    "papermill": {
     "duration": null,
     "end_time": null,
     "exception": null,
     "start_time": null,
     "status": "pending"
    },
    "tags": []
   },
   "outputs": [],
   "source": [
    "trainer = Trainer(\n",
    "    model3,\n",
    "    args,\n",
    "    train_dataset=encoded_dataset_En[\"train\"],\n",
    "    eval_dataset=encoded_dataset_En[\"test\"],\n",
    "    tokenizer=tokenizer,\n",
    "    compute_metrics=compute_metrics3\n",
    ")"
   ]
  },
  {
   "cell_type": "code",
   "execution_count": null,
   "id": "3064ca14",
   "metadata": {
    "execution": {
     "iopub.status.busy": "2022-01-30T14:39:44.722692Z",
     "iopub.status.idle": "2022-01-30T14:39:44.723500Z",
     "shell.execute_reply": "2022-01-30T14:39:44.723228Z",
     "shell.execute_reply.started": "2022-01-30T14:39:44.723197Z"
    },
    "papermill": {
     "duration": null,
     "end_time": null,
     "exception": null,
     "start_time": null,
     "status": "pending"
    },
    "tags": []
   },
   "outputs": [],
   "source": [
    "trainer.train()"
   ]
  },
  {
   "cell_type": "code",
   "execution_count": null,
   "id": "bd2980d2",
   "metadata": {
    "execution": {
     "iopub.status.busy": "2022-01-30T14:39:44.725116Z",
     "iopub.status.idle": "2022-01-30T14:39:44.725942Z",
     "shell.execute_reply": "2022-01-30T14:39:44.725652Z",
     "shell.execute_reply.started": "2022-01-30T14:39:44.725620Z"
    },
    "papermill": {
     "duration": null,
     "end_time": null,
     "exception": null,
     "start_time": null,
     "status": "pending"
    },
    "tags": []
   },
   "outputs": [],
   "source": [
    "trainer.evaluate()"
   ]
  },
  {
   "cell_type": "code",
   "execution_count": null,
   "id": "ac217c7c",
   "metadata": {
    "execution": {
     "iopub.status.busy": "2022-01-30T14:39:44.727540Z",
     "iopub.status.idle": "2022-01-30T14:39:44.728347Z",
     "shell.execute_reply": "2022-01-30T14:39:44.728064Z",
     "shell.execute_reply.started": "2022-01-30T14:39:44.728032Z"
    },
    "papermill": {
     "duration": null,
     "end_time": null,
     "exception": null,
     "start_time": null,
     "status": "pending"
    },
    "tags": []
   },
   "outputs": [],
   "source": [
    "trainer = Trainer(\n",
    "    model3,\n",
    "    args,\n",
    "    train_dataset=encoded_dataset_Ar[\"train\"],\n",
    "    eval_dataset=encoded_dataset_Ar[\"test\"],\n",
    "    tokenizer=tokenizer,\n",
    "    compute_metrics=compute_metrics3\n",
    ")"
   ]
  },
  {
   "cell_type": "code",
   "execution_count": null,
   "id": "43901122",
   "metadata": {
    "execution": {
     "iopub.status.busy": "2022-01-30T14:39:44.729911Z",
     "iopub.status.idle": "2022-01-30T14:39:44.730702Z",
     "shell.execute_reply": "2022-01-30T14:39:44.730429Z",
     "shell.execute_reply.started": "2022-01-30T14:39:44.730397Z"
    },
    "papermill": {
     "duration": null,
     "end_time": null,
     "exception": null,
     "start_time": null,
     "status": "pending"
    },
    "tags": []
   },
   "outputs": [],
   "source": [
    "trainer.train()"
   ]
  },
  {
   "cell_type": "code",
   "execution_count": null,
   "id": "64788232",
   "metadata": {
    "execution": {
     "iopub.status.busy": "2022-01-30T14:39:44.732261Z",
     "iopub.status.idle": "2022-01-30T14:39:44.733056Z",
     "shell.execute_reply": "2022-01-30T14:39:44.732785Z",
     "shell.execute_reply.started": "2022-01-30T14:39:44.732753Z"
    },
    "papermill": {
     "duration": null,
     "end_time": null,
     "exception": null,
     "start_time": null,
     "status": "pending"
    },
    "tags": []
   },
   "outputs": [],
   "source": [
    "trainer.evaluate()"
   ]
  },
  {
   "cell_type": "code",
   "execution_count": null,
   "id": "f8343b65",
   "metadata": {
    "execution": {
     "iopub.status.busy": "2022-01-30T14:39:44.734575Z",
     "iopub.status.idle": "2022-01-30T14:39:44.735421Z",
     "shell.execute_reply": "2022-01-30T14:39:44.735149Z",
     "shell.execute_reply.started": "2022-01-30T14:39:44.735118Z"
    },
    "papermill": {
     "duration": null,
     "end_time": null,
     "exception": null,
     "start_time": null,
     "status": "pending"
    },
    "tags": []
   },
   "outputs": [],
   "source": [
    "torch.save(model3,\"mlpl3.pkl\")"
   ]
  },
  {
   "cell_type": "code",
   "execution_count": null,
   "id": "c5ac141e",
   "metadata": {
    "execution": {
     "iopub.status.busy": "2022-01-30T14:39:44.736939Z",
     "iopub.status.idle": "2022-01-30T14:39:44.737784Z",
     "shell.execute_reply": "2022-01-30T14:39:44.737490Z",
     "shell.execute_reply.started": "2022-01-30T14:39:44.737451Z"
    },
    "papermill": {
     "duration": null,
     "end_time": null,
     "exception": null,
     "start_time": null,
     "status": "pending"
    },
    "tags": []
   },
   "outputs": [],
   "source": [
    "\n",
    "# classifier = pipeline('sentiment-analysis',model=model3,tokenizer=tokenizer)"
   ]
  },
  {
   "cell_type": "code",
   "execution_count": null,
   "id": "a3000e8b",
   "metadata": {
    "execution": {
     "iopub.status.busy": "2022-01-30T14:39:44.739343Z",
     "iopub.status.idle": "2022-01-30T14:39:44.740167Z",
     "shell.execute_reply": "2022-01-30T14:39:44.739881Z",
     "shell.execute_reply.started": "2022-01-30T14:39:44.739850Z"
    },
    "papermill": {
     "duration": null,
     "end_time": null,
     "exception": null,
     "start_time": null,
     "status": "pending"
    },
    "tags": []
   },
   "outputs": [],
   "source": [
    "# result = classifier(test_examples[0]['text'])"
   ]
  },
  {
   "cell_type": "markdown",
   "id": "ad092bf8",
   "metadata": {
    "papermill": {
     "duration": null,
     "end_time": null,
     "exception": null,
     "start_time": null,
     "status": "pending"
    },
    "tags": []
   },
   "source": [
    "# INFER阶段：使用模型进行预测"
   ]
  },
  {
   "cell_type": "code",
   "execution_count": null,
   "id": "0958184d",
   "metadata": {
    "execution": {
     "iopub.execute_input": "2022-01-31T04:38:54.641563Z",
     "iopub.status.busy": "2022-01-31T04:38:54.641292Z",
     "iopub.status.idle": "2022-01-31T04:38:54.648164Z",
     "shell.execute_reply": "2022-01-31T04:38:54.647189Z",
     "shell.execute_reply.started": "2022-01-31T04:38:54.641534Z"
    },
    "papermill": {
     "duration": null,
     "end_time": null,
     "exception": null,
     "start_time": null,
     "status": "pending"
    },
    "tags": []
   },
   "outputs": [],
   "source": [
    "from torch.utils.data import TensorDataset, DataLoader, random_split\n",
    "import torch"
   ]
  },
  {
   "cell_type": "markdown",
   "id": "35c608b9",
   "metadata": {
    "papermill": {
     "duration": null,
     "end_time": null,
     "exception": null,
     "start_time": null,
     "status": "pending"
    },
    "tags": []
   },
   "source": [
    "## Task A"
   ]
  },
  {
   "cell_type": "code",
   "execution_count": null,
   "id": "274c978f",
   "metadata": {
    "execution": {
     "iopub.execute_input": "2022-01-31T04:38:59.249931Z",
     "iopub.status.busy": "2022-01-31T04:38:59.249323Z",
     "iopub.status.idle": "2022-01-31T04:38:59.314693Z",
     "shell.execute_reply": "2022-01-31T04:38:59.313944Z",
     "shell.execute_reply.started": "2022-01-31T04:38:59.249891Z"
    },
    "papermill": {
     "duration": null,
     "end_time": null,
     "exception": null,
     "start_time": null,
     "status": "pending"
    },
    "tags": []
   },
   "outputs": [],
   "source": [
    "import pandas as pd\n",
    "# Read data from files \n",
    "En_test = pd.read_csv( \"../input/2021-semeval-task6/taskA.En.input.csv\", header=0)\n",
    "print(En_test.shape)\n",
    "# Read data from files \n",
    "Ar_test = pd.read_csv( \"../input/2021-semeval-task6/taskA_AR_test.csv\", header=0)\n",
    "print(Ar_test.shape)"
   ]
  },
  {
   "cell_type": "code",
   "execution_count": null,
   "id": "89aa670c",
   "metadata": {
    "execution": {
     "iopub.execute_input": "2022-01-31T04:39:02.626993Z",
     "iopub.status.busy": "2022-01-31T04:39:02.626217Z",
     "iopub.status.idle": "2022-01-31T04:39:02.702996Z",
     "shell.execute_reply": "2022-01-31T04:39:02.702338Z",
     "shell.execute_reply.started": "2022-01-31T04:39:02.626944Z"
    },
    "papermill": {
     "duration": null,
     "end_time": null,
     "exception": null,
     "start_time": null,
     "status": "pending"
    },
    "tags": []
   },
   "outputs": [],
   "source": [
    "clean_train_Texts = []\n",
    "num_Texts = 0\n",
    "clearTexts(En_test,pos='text')\n",
    "clean_train_Texts_En=clean_train_Texts\n",
    "\n",
    "clean_train_Texts = []\n",
    "num_Texts = 0\n",
    "clearTexts(Ar_test,pos='text')\n",
    "clean_train_Texts_Ar=clean_train_Texts"
   ]
  },
  {
   "cell_type": "markdown",
   "id": "7ef2a384",
   "metadata": {
    "papermill": {
     "duration": null,
     "end_time": null,
     "exception": null,
     "start_time": null,
     "status": "pending"
    },
    "tags": []
   },
   "source": [
    "英语部分"
   ]
  },
  {
   "cell_type": "code",
   "execution_count": null,
   "id": "d13f6737",
   "metadata": {
    "execution": {
     "iopub.execute_input": "2022-01-31T04:39:15.808554Z",
     "iopub.status.busy": "2022-01-31T04:39:15.807934Z",
     "iopub.status.idle": "2022-01-31T04:39:21.251843Z",
     "shell.execute_reply": "2022-01-31T04:39:21.247809Z",
     "shell.execute_reply.started": "2022-01-31T04:39:15.808513Z"
    },
    "papermill": {
     "duration": null,
     "end_time": null,
     "exception": null,
     "start_time": null,
     "status": "pending"
    },
    "tags": []
   },
   "outputs": [],
   "source": [
    "text=Dataset.from_dict({\"sentence\": clean_train_Texts_En})\n",
    "encoded_text = text.map(preprocess_function, batched=True)\n",
    "pred =trainer.predict(encoded_text)\n",
    "final_preds = np.argmax(pred[0], axis=1).tolist()"
   ]
  },
  {
   "cell_type": "code",
   "execution_count": null,
   "id": "58cc8edb",
   "metadata": {
    "execution": {
     "iopub.execute_input": "2022-01-31T04:39:42.566815Z",
     "iopub.status.busy": "2022-01-31T04:39:42.566422Z",
     "iopub.status.idle": "2022-01-31T04:39:42.578208Z",
     "shell.execute_reply": "2022-01-31T04:39:42.577106Z",
     "shell.execute_reply.started": "2022-01-31T04:39:42.566782Z"
    },
    "papermill": {
     "duration": null,
     "end_time": null,
     "exception": null,
     "start_time": null,
     "status": "pending"
    },
    "tags": []
   },
   "outputs": [],
   "source": [
    "sum(final_preds)"
   ]
  },
  {
   "cell_type": "code",
   "execution_count": null,
   "id": "24252c7e",
   "metadata": {
    "execution": {
     "iopub.execute_input": "2022-01-31T04:39:50.138119Z",
     "iopub.status.busy": "2022-01-31T04:39:50.137868Z",
     "iopub.status.idle": "2022-01-31T04:39:50.154894Z",
     "shell.execute_reply": "2022-01-31T04:39:50.153897Z",
     "shell.execute_reply.started": "2022-01-31T04:39:50.138090Z"
    },
    "papermill": {
     "duration": null,
     "end_time": null,
     "exception": null,
     "start_time": null,
     "status": "pending"
    },
    "tags": []
   },
   "outputs": [],
   "source": [
    "# Create submission file\n",
    "submission = pd.DataFrame()\n",
    "submission['task_a_en'] = final_preds\n",
    "submission.to_csv('dummy_a_en.txt', index=False)"
   ]
  },
  {
   "cell_type": "markdown",
   "id": "3f8c2a62",
   "metadata": {
    "papermill": {
     "duration": null,
     "end_time": null,
     "exception": null,
     "start_time": null,
     "status": "pending"
    },
    "tags": []
   },
   "source": [
    "阿拉伯语部分"
   ]
  },
  {
   "cell_type": "code",
   "execution_count": null,
   "id": "e5adb902",
   "metadata": {
    "execution": {
     "iopub.execute_input": "2022-01-31T04:45:52.772166Z",
     "iopub.status.busy": "2022-01-31T04:45:52.771723Z",
     "iopub.status.idle": "2022-01-31T04:45:58.168003Z",
     "shell.execute_reply": "2022-01-31T04:45:58.167127Z",
     "shell.execute_reply.started": "2022-01-31T04:45:52.772131Z"
    },
    "papermill": {
     "duration": null,
     "end_time": null,
     "exception": null,
     "start_time": null,
     "status": "pending"
    },
    "tags": []
   },
   "outputs": [],
   "source": [
    "text=Dataset.from_dict({\"sentence\": clean_train_Texts_En})\n",
    "encoded_text = text.map(preprocess_function, batched=True)\n",
    "pred =trainer.predict(encoded_text)\n",
    "final_preds = np.argmax(pred[0], axis=1).tolist()"
   ]
  },
  {
   "cell_type": "code",
   "execution_count": null,
   "id": "2b979865",
   "metadata": {
    "execution": {
     "iopub.execute_input": "2022-01-31T04:46:03.413525Z",
     "iopub.status.busy": "2022-01-31T04:46:03.413211Z",
     "iopub.status.idle": "2022-01-31T04:46:03.421914Z",
     "shell.execute_reply": "2022-01-31T04:46:03.421171Z",
     "shell.execute_reply.started": "2022-01-31T04:46:03.413493Z"
    },
    "papermill": {
     "duration": null,
     "end_time": null,
     "exception": null,
     "start_time": null,
     "status": "pending"
    },
    "tags": []
   },
   "outputs": [],
   "source": [
    "sum(final_preds)"
   ]
  },
  {
   "cell_type": "code",
   "execution_count": null,
   "id": "411fc154",
   "metadata": {
    "execution": {
     "iopub.execute_input": "2022-01-31T04:46:05.340256Z",
     "iopub.status.busy": "2022-01-31T04:46:05.339959Z",
     "iopub.status.idle": "2022-01-31T04:46:05.359719Z",
     "shell.execute_reply": "2022-01-31T04:46:05.359054Z",
     "shell.execute_reply.started": "2022-01-31T04:46:05.340226Z"
    },
    "papermill": {
     "duration": null,
     "end_time": null,
     "exception": null,
     "start_time": null,
     "status": "pending"
    },
    "tags": []
   },
   "outputs": [],
   "source": [
    "# Create submission file\n",
    "submission = pd.DataFrame()\n",
    "submission['task_a_ar'] = final_preds\n",
    "submission.to_csv('dummy_a_ar.txt', index=False)"
   ]
  },
  {
   "cell_type": "markdown",
   "id": "4cad5974",
   "metadata": {
    "papermill": {
     "duration": null,
     "end_time": null,
     "exception": null,
     "start_time": null,
     "status": "pending"
    },
    "tags": []
   },
   "source": [
    "## Task B"
   ]
  },
  {
   "cell_type": "code",
   "execution_count": null,
   "id": "dcf288de",
   "metadata": {
    "execution": {
     "iopub.execute_input": "2022-01-30T14:52:27.920819Z",
     "iopub.status.busy": "2022-01-30T14:52:27.920382Z",
     "iopub.status.idle": "2022-01-30T14:52:27.940835Z",
     "shell.execute_reply": "2022-01-30T14:52:27.939763Z",
     "shell.execute_reply.started": "2022-01-30T14:52:27.920788Z"
    },
    "papermill": {
     "duration": null,
     "end_time": null,
     "exception": null,
     "start_time": null,
     "status": "pending"
    },
    "tags": []
   },
   "outputs": [],
   "source": [
    "import pandas as pd\n",
    "# Read data from files \n",
    "En_test = pd.read_csv( \"../input/2021-semeval-task6/taskB.En.input.csv\", header=0)\n",
    "print(En_test.shape)"
   ]
  },
  {
   "cell_type": "code",
   "execution_count": null,
   "id": "7ab32e1a",
   "metadata": {
    "execution": {
     "iopub.execute_input": "2022-01-30T14:52:29.294577Z",
     "iopub.status.busy": "2022-01-30T14:52:29.293634Z",
     "iopub.status.idle": "2022-01-30T14:52:29.350939Z",
     "shell.execute_reply": "2022-01-30T14:52:29.349796Z",
     "shell.execute_reply.started": "2022-01-30T14:52:29.294508Z"
    },
    "papermill": {
     "duration": null,
     "end_time": null,
     "exception": null,
     "start_time": null,
     "status": "pending"
    },
    "tags": []
   },
   "outputs": [],
   "source": [
    "clean_train_Texts = []\n",
    "num_Texts = 0\n",
    "clearTexts(En_test,pos='text')\n",
    "clean_train_Texts_En=clean_train_Texts\n",
    "\n",
    "# all_input_ids = encode_fn(clean_train_Texts_En)"
   ]
  },
  {
   "cell_type": "markdown",
   "id": "aa5da699",
   "metadata": {
    "papermill": {
     "duration": null,
     "end_time": null,
     "exception": null,
     "start_time": null,
     "status": "pending"
    },
    "tags": []
   },
   "source": [
    "拆分多二分类器版本"
   ]
  },
  {
   "cell_type": "code",
   "execution_count": null,
   "id": "2360e027",
   "metadata": {
    "execution": {
     "iopub.status.busy": "2022-01-30T14:39:44.782337Z",
     "iopub.status.idle": "2022-01-30T14:39:44.783168Z",
     "shell.execute_reply": "2022-01-30T14:39:44.782882Z",
     "shell.execute_reply.started": "2022-01-30T14:39:44.782849Z"
    },
    "papermill": {
     "duration": null,
     "end_time": null,
     "exception": null,
     "start_time": null,
     "status": "pending"
    },
    "tags": []
   },
   "outputs": [],
   "source": [
    "from transformers import pipeline\n",
    "test_dataset = {\n",
    "  'text': clean_train_Texts_En,\n",
    "}\n",
    "\n",
    "classfier = pipeline('sentiment-analysis', model=model_1, tokenizer=tokenizer)\n",
    "result1 = classfier(test_dataset[\"text\"])\n",
    "\n",
    "classfier = pipeline('sentiment-analysis', model=model_2, tokenizer=tokenizer)\n",
    "result2 = classfier(test_dataset[\"text\"])\n",
    "\n",
    "classfier = pipeline('sentiment-analysis', model=model_3, tokenizer=tokenizer)\n",
    "result3 = classfier(test_dataset[\"text\"])\n",
    "\n",
    "classfier = pipeline('sentiment-analysis', model=model_4, tokenizer=tokenizer)\n",
    "result4 = classfier(test_dataset[\"text\"])\n",
    "\n",
    "classfier = pipeline('sentiment-analysis', model=model_5, tokenizer=tokenizer)\n",
    "result5 = classfier(test_dataset[\"text\"])\n",
    "\n",
    "\n",
    "classfier = pipeline('sentiment-analysis', model=model_6, tokenizer=tokenizer)\n",
    "result6= classfier(test_dataset[\"text\"])\n"
   ]
  },
  {
   "cell_type": "code",
   "execution_count": null,
   "id": "23041238",
   "metadata": {
    "execution": {
     "iopub.status.busy": "2022-01-30T14:39:44.784848Z",
     "iopub.status.idle": "2022-01-30T14:39:44.785641Z",
     "shell.execute_reply": "2022-01-30T14:39:44.785371Z",
     "shell.execute_reply.started": "2022-01-30T14:39:44.785340Z"
    },
    "papermill": {
     "duration": null,
     "end_time": null,
     "exception": null,
     "start_time": null,
     "status": "pending"
    },
    "tags": []
   },
   "outputs": [],
   "source": [
    "preds=[]\n",
    "for i in range(len(clean_train_Texts)):\n",
    "    tmp=[]\n",
    "    if result1[i]['label']=='LABEL_1':\n",
    "        tmp.append(1)\n",
    "    else:\n",
    "        tmp.append(0)\n",
    "    if result2[i]['label']=='LABEL_1':\n",
    "        tmp.append(1)\n",
    "    else:\n",
    "        tmp.append(0)\n",
    "    if result3[i]['label']=='LABEL_1':\n",
    "        tmp.append(1)\n",
    "    else:\n",
    "        tmp.append(0)\n",
    "    if result4[i]['label']=='LABEL_1':\n",
    "        tmp.append(1)\n",
    "    else:\n",
    "        tmp.append(0)\n",
    "    if result5[i]['label']=='LABEL_1':\n",
    "        tmp.append(1)\n",
    "    else:\n",
    "        tmp.append(0)\n",
    "    if result6[i]['label']=='LABEL_1':\n",
    "        tmp.append(1)\n",
    "    else:\n",
    "        tmp.append(0)\n",
    "    preds.append(preds)\n",
    "    "
   ]
  },
  {
   "cell_type": "code",
   "execution_count": null,
   "id": "ed341d19",
   "metadata": {
    "execution": {
     "iopub.status.busy": "2022-01-30T14:39:44.787238Z",
     "iopub.status.idle": "2022-01-30T14:39:44.788034Z",
     "shell.execute_reply": "2022-01-30T14:39:44.787765Z",
     "shell.execute_reply.started": "2022-01-30T14:39:44.787733Z"
    },
    "papermill": {
     "duration": null,
     "end_time": null,
     "exception": null,
     "start_time": null,
     "status": "pending"
    },
    "tags": []
   },
   "outputs": [],
   "source": [
    "final_preds = np.concatenate(preds, axis=0)"
   ]
  },
  {
   "cell_type": "code",
   "execution_count": null,
   "id": "a8e0a233",
   "metadata": {
    "execution": {
     "iopub.status.busy": "2022-01-30T14:39:44.789585Z",
     "iopub.status.idle": "2022-01-30T14:39:44.790414Z",
     "shell.execute_reply": "2022-01-30T14:39:44.790141Z",
     "shell.execute_reply.started": "2022-01-30T14:39:44.790109Z"
    },
    "papermill": {
     "duration": null,
     "end_time": null,
     "exception": null,
     "start_time": null,
     "status": "pending"
    },
    "tags": []
   },
   "outputs": [],
   "source": [
    "final_preds=final_preds.T"
   ]
  },
  {
   "cell_type": "code",
   "execution_count": null,
   "id": "dcbc2109",
   "metadata": {
    "execution": {
     "iopub.status.busy": "2022-01-30T14:39:44.791950Z",
     "iopub.status.idle": "2022-01-30T14:39:44.792987Z",
     "shell.execute_reply": "2022-01-30T14:39:44.792684Z",
     "shell.execute_reply.started": "2022-01-30T14:39:44.792652Z"
    },
    "papermill": {
     "duration": null,
     "end_time": null,
     "exception": null,
     "start_time": null,
     "status": "pending"
    },
    "tags": []
   },
   "outputs": [],
   "source": [
    "sum(final_preds[4])"
   ]
  },
  {
   "cell_type": "code",
   "execution_count": null,
   "id": "22741090",
   "metadata": {
    "execution": {
     "iopub.status.busy": "2022-01-30T14:39:44.794594Z",
     "iopub.status.idle": "2022-01-30T14:39:44.795435Z",
     "shell.execute_reply": "2022-01-30T14:39:44.795164Z",
     "shell.execute_reply.started": "2022-01-30T14:39:44.795132Z"
    },
    "papermill": {
     "duration": null,
     "end_time": null,
     "exception": null,
     "start_time": null,
     "status": "pending"
    },
    "tags": []
   },
   "outputs": [],
   "source": [
    "# Create submission file\n",
    "submission = pd.DataFrame()\n",
    "submission['sarcasm'] = final_preds[0]\n",
    "submission['irony'] = final_preds[1]\n",
    "submission['satire'] = final_preds[2]\n",
    "submission['understatement'] = final_preds[3]\n",
    "submission['overstatement'] = final_preds[4]\n",
    "submission['rhetorical_question'] = final_preds[5]\n",
    "submission.to_csv('dummy_b.txt', index=False)"
   ]
  },
  {
   "cell_type": "markdown",
   "id": "e549ed58",
   "metadata": {
    "papermill": {
     "duration": null,
     "end_time": null,
     "exception": null,
     "start_time": null,
     "status": "pending"
    },
    "tags": []
   },
   "source": [
    "合并版本"
   ]
  },
  {
   "cell_type": "code",
   "execution_count": null,
   "id": "b8a6a93b",
   "metadata": {
    "execution": {
     "iopub.status.busy": "2022-01-30T14:39:44.797007Z",
     "iopub.status.idle": "2022-01-30T14:39:44.797836Z",
     "shell.execute_reply": "2022-01-30T14:39:44.797546Z",
     "shell.execute_reply.started": "2022-01-30T14:39:44.797515Z"
    },
    "papermill": {
     "duration": null,
     "end_time": null,
     "exception": null,
     "start_time": null,
     "status": "pending"
    },
    "tags": []
   },
   "outputs": [],
   "source": [
    "model=torch.load(\"mlpl2.pkl\")#导入保存的模型"
   ]
  },
  {
   "cell_type": "code",
   "execution_count": null,
   "id": "abbbf461",
   "metadata": {
    "execution": {
     "iopub.execute_input": "2022-01-30T15:22:29.788793Z",
     "iopub.status.busy": "2022-01-30T15:22:29.788476Z",
     "iopub.status.idle": "2022-01-30T15:22:35.647964Z",
     "shell.execute_reply": "2022-01-30T15:22:35.647046Z",
     "shell.execute_reply.started": "2022-01-30T15:22:29.788760Z"
    },
    "papermill": {
     "duration": null,
     "end_time": null,
     "exception": null,
     "start_time": null,
     "status": "pending"
    },
    "tags": []
   },
   "outputs": [],
   "source": [
    "text=Dataset.from_dict({\"sentence\":clean_train_Texts_En})\n",
    "encoded_text = text.map(preprocess_function, batched=True)\n",
    "pred =trainer.predict(encoded_text)\n",
    "final_preds = m(torch.tensor(pred[0]))\n",
    "final_preds = np.int64(final_preds>=0.5)"
   ]
  },
  {
   "cell_type": "code",
   "execution_count": null,
   "id": "bbe8dbaa",
   "metadata": {
    "execution": {
     "iopub.execute_input": "2022-01-30T15:22:37.539280Z",
     "iopub.status.busy": "2022-01-30T15:22:37.538853Z",
     "iopub.status.idle": "2022-01-30T15:22:37.548882Z",
     "shell.execute_reply": "2022-01-30T15:22:37.548036Z",
     "shell.execute_reply.started": "2022-01-30T15:22:37.539236Z"
    },
    "papermill": {
     "duration": null,
     "end_time": null,
     "exception": null,
     "start_time": null,
     "status": "pending"
    },
    "tags": []
   },
   "outputs": [],
   "source": [
    "final_preds=final_preds.T"
   ]
  },
  {
   "cell_type": "code",
   "execution_count": null,
   "id": "c2e1973c",
   "metadata": {
    "execution": {
     "iopub.execute_input": "2022-01-30T15:23:33.142571Z",
     "iopub.status.busy": "2022-01-30T15:23:33.141921Z",
     "iopub.status.idle": "2022-01-30T15:23:33.152089Z",
     "shell.execute_reply": "2022-01-30T15:23:33.151010Z",
     "shell.execute_reply.started": "2022-01-30T15:23:33.142536Z"
    },
    "papermill": {
     "duration": null,
     "end_time": null,
     "exception": null,
     "start_time": null,
     "status": "pending"
    },
    "tags": []
   },
   "outputs": [],
   "source": [
    "sum(final_preds[4])"
   ]
  },
  {
   "cell_type": "code",
   "execution_count": null,
   "id": "5dc50b40",
   "metadata": {
    "execution": {
     "iopub.execute_input": "2022-01-30T15:22:58.746626Z",
     "iopub.status.busy": "2022-01-30T15:22:58.746347Z",
     "iopub.status.idle": "2022-01-30T15:22:58.777915Z",
     "shell.execute_reply": "2022-01-30T15:22:58.776934Z",
     "shell.execute_reply.started": "2022-01-30T15:22:58.746597Z"
    },
    "papermill": {
     "duration": null,
     "end_time": null,
     "exception": null,
     "start_time": null,
     "status": "pending"
    },
    "tags": []
   },
   "outputs": [],
   "source": [
    "# Create submission file\n",
    "submission = pd.DataFrame()\n",
    "submission['sarcasm'] = final_preds[0]\n",
    "submission['irony'] = final_preds[1]\n",
    "submission['satire'] = final_preds[2]\n",
    "submission['understatement'] = final_preds[3]\n",
    "submission['overstatement'] = final_preds[4]\n",
    "submission['rhetorical_question'] = final_preds[5]\n",
    "submission.to_csv('dummy_b.txt', index=False)"
   ]
  },
  {
   "cell_type": "markdown",
   "id": "6e78b27d",
   "metadata": {
    "papermill": {
     "duration": null,
     "end_time": null,
     "exception": null,
     "start_time": null,
     "status": "pending"
    },
    "tags": []
   },
   "source": [
    "## Task C"
   ]
  },
  {
   "cell_type": "code",
   "execution_count": null,
   "id": "daf1c6ef",
   "metadata": {
    "execution": {
     "iopub.status.busy": "2022-01-30T14:39:44.811293Z",
     "iopub.status.idle": "2022-01-30T14:39:44.812118Z",
     "shell.execute_reply": "2022-01-30T14:39:44.811830Z",
     "shell.execute_reply.started": "2022-01-30T14:39:44.811798Z"
    },
    "papermill": {
     "duration": null,
     "end_time": null,
     "exception": null,
     "start_time": null,
     "status": "pending"
    },
    "tags": []
   },
   "outputs": [],
   "source": [
    "import pandas as pd\n",
    "# Read data from files \n",
    "En_test = pd.read_csv( \"../input/2021-semeval-task6/taskC.En.input.csv\", header=0)\n",
    "print(En_test.shape)\n",
    "# Read data from files \n",
    "Ar_test = pd.read_csv( \"../input/2021-semeval-task6/taskC_AR_test.csv\", header=0)\n",
    "print(Ar_test.shape)"
   ]
  },
  {
   "cell_type": "code",
   "execution_count": null,
   "id": "85d53155",
   "metadata": {
    "execution": {
     "iopub.status.busy": "2022-01-30T14:39:44.813640Z",
     "iopub.status.idle": "2022-01-30T14:39:44.814471Z",
     "shell.execute_reply": "2022-01-30T14:39:44.814194Z",
     "shell.execute_reply.started": "2022-01-30T14:39:44.814162Z"
    },
    "papermill": {
     "duration": null,
     "end_time": null,
     "exception": null,
     "start_time": null,
     "status": "pending"
    },
    "tags": []
   },
   "outputs": [],
   "source": [
    "model=torch.load(\"mlpl3.pkl\")#导入保存的模型"
   ]
  },
  {
   "cell_type": "markdown",
   "id": "f1fc303a",
   "metadata": {
    "papermill": {
     "duration": null,
     "end_time": null,
     "exception": null,
     "start_time": null,
     "status": "pending"
    },
    "tags": []
   },
   "source": [
    "英语部分"
   ]
  },
  {
   "cell_type": "code",
   "execution_count": null,
   "id": "2c513d5e",
   "metadata": {
    "execution": {
     "iopub.status.busy": "2022-01-30T14:39:44.816043Z",
     "iopub.status.idle": "2022-01-30T14:39:44.816866Z",
     "shell.execute_reply": "2022-01-30T14:39:44.816572Z",
     "shell.execute_reply.started": "2022-01-30T14:39:44.816540Z"
    },
    "papermill": {
     "duration": null,
     "end_time": null,
     "exception": null,
     "start_time": null,
     "status": "pending"
    },
    "tags": []
   },
   "outputs": [],
   "source": [
    "clean_train_Texts = []\n",
    "num_Texts = 0\n",
    "clearTexts(En_test,pos='text_0')\n",
    "clean_train_Texts_En_0=clean_train_Texts\n",
    "clean_train_Texts = []\n",
    "num_Texts = 0\n",
    "clearTexts(En_test,pos='text_1')\n",
    "clean_train_Texts_En_1=clean_train_Texts\n"
   ]
  },
  {
   "cell_type": "code",
   "execution_count": null,
   "id": "42b4ff20",
   "metadata": {
    "execution": {
     "iopub.status.busy": "2022-01-30T14:39:44.818415Z",
     "iopub.status.idle": "2022-01-30T14:39:44.819250Z",
     "shell.execute_reply": "2022-01-30T14:39:44.818964Z",
     "shell.execute_reply.started": "2022-01-30T14:39:44.818932Z"
    },
    "papermill": {
     "duration": null,
     "end_time": null,
     "exception": null,
     "start_time": null,
     "status": "pending"
    },
    "tags": []
   },
   "outputs": [],
   "source": [
    "text=Dataset.from_dict({\"sentence1\": clean_train_Texts_En_0,'sentence2':clean_train_Texts_En_1})\n",
    "encoded_text = text.map(preprocess_function, batched=True)\n",
    "pred =trainer.predict(encoded_text)\n",
    "final_preds = np.argmax(pred[0], axis=1).tolist()"
   ]
  },
  {
   "cell_type": "code",
   "execution_count": null,
   "id": "166c6dec",
   "metadata": {
    "execution": {
     "iopub.status.busy": "2022-01-30T14:39:44.820831Z",
     "iopub.status.idle": "2022-01-30T14:39:44.821639Z",
     "shell.execute_reply": "2022-01-30T14:39:44.821369Z",
     "shell.execute_reply.started": "2022-01-30T14:39:44.821337Z"
    },
    "papermill": {
     "duration": null,
     "end_time": null,
     "exception": null,
     "start_time": null,
     "status": "pending"
    },
    "tags": []
   },
   "outputs": [],
   "source": [
    "sum(final_preds)"
   ]
  },
  {
   "cell_type": "code",
   "execution_count": null,
   "id": "66d69349",
   "metadata": {
    "execution": {
     "iopub.status.busy": "2022-01-30T14:39:44.823274Z",
     "iopub.status.idle": "2022-01-30T14:39:44.824061Z",
     "shell.execute_reply": "2022-01-30T14:39:44.823794Z",
     "shell.execute_reply.started": "2022-01-30T14:39:44.823762Z"
    },
    "papermill": {
     "duration": null,
     "end_time": null,
     "exception": null,
     "start_time": null,
     "status": "pending"
    },
    "tags": []
   },
   "outputs": [],
   "source": [
    "# Create submission file\n",
    "submission = pd.DataFrame()\n",
    "submission['task_c_en'] = final_preds\n",
    "submission.to_csv('dummy_c_en.txt', index=False)"
   ]
  },
  {
   "cell_type": "markdown",
   "id": "02b0a548",
   "metadata": {
    "papermill": {
     "duration": null,
     "end_time": null,
     "exception": null,
     "start_time": null,
     "status": "pending"
    },
    "tags": []
   },
   "source": [
    "阿拉伯语部分"
   ]
  },
  {
   "cell_type": "code",
   "execution_count": null,
   "id": "86d90bdd",
   "metadata": {
    "execution": {
     "iopub.status.busy": "2022-01-30T14:39:44.825576Z",
     "iopub.status.idle": "2022-01-30T14:39:44.826445Z",
     "shell.execute_reply": "2022-01-30T14:39:44.826160Z",
     "shell.execute_reply.started": "2022-01-30T14:39:44.826128Z"
    },
    "papermill": {
     "duration": null,
     "end_time": null,
     "exception": null,
     "start_time": null,
     "status": "pending"
    },
    "tags": []
   },
   "outputs": [],
   "source": [
    "clean_train_Texts = []\n",
    "num_Texts = 0\n",
    "clearTexts(Ar_test,pos='text_0')\n",
    "clean_train_Texts_Ar_0=clean_train_Texts\n",
    "clean_train_Texts = []\n",
    "num_Texts = 0\n",
    "clearTexts(Ar_test,pos='text_1')\n",
    "clean_train_Texts_Ar_1=clean_train_Texts\n"
   ]
  },
  {
   "cell_type": "code",
   "execution_count": null,
   "id": "85d18f9e",
   "metadata": {
    "execution": {
     "iopub.status.busy": "2022-01-30T14:39:44.827981Z",
     "iopub.status.idle": "2022-01-30T14:39:44.828808Z",
     "shell.execute_reply": "2022-01-30T14:39:44.828518Z",
     "shell.execute_reply.started": "2022-01-30T14:39:44.828486Z"
    },
    "papermill": {
     "duration": null,
     "end_time": null,
     "exception": null,
     "start_time": null,
     "status": "pending"
    },
    "tags": []
   },
   "outputs": [],
   "source": [
    "text=Dataset.from_dict({\"sentence1\": clean_train_Texts_En_0,'sentence2':clean_train_Texts_En_1})\n",
    "encoded_text = text.map(preprocess_function, batched=True)\n",
    "pred =trainer.predict(encoded_text)\n",
    "final_preds = np.argmax(pred[0], axis=1).tolist()"
   ]
  },
  {
   "cell_type": "code",
   "execution_count": null,
   "id": "59ba93f4",
   "metadata": {
    "execution": {
     "iopub.status.busy": "2022-01-30T14:39:44.830354Z",
     "iopub.status.idle": "2022-01-30T14:39:44.831179Z",
     "shell.execute_reply": "2022-01-30T14:39:44.830892Z",
     "shell.execute_reply.started": "2022-01-30T14:39:44.830861Z"
    },
    "papermill": {
     "duration": null,
     "end_time": null,
     "exception": null,
     "start_time": null,
     "status": "pending"
    },
    "tags": []
   },
   "outputs": [],
   "source": [
    "sum(final_preds)"
   ]
  },
  {
   "cell_type": "code",
   "execution_count": null,
   "id": "cf8d1acb",
   "metadata": {
    "execution": {
     "iopub.status.busy": "2022-01-30T14:39:44.832729Z",
     "iopub.status.idle": "2022-01-30T14:39:44.833529Z",
     "shell.execute_reply": "2022-01-30T14:39:44.833258Z",
     "shell.execute_reply.started": "2022-01-30T14:39:44.833227Z"
    },
    "papermill": {
     "duration": null,
     "end_time": null,
     "exception": null,
     "start_time": null,
     "status": "pending"
    },
    "tags": []
   },
   "outputs": [],
   "source": [
    "# Create submission file\n",
    "submission = pd.DataFrame()\n",
    "submission['task_c_ar'] = final_preds\n",
    "submission.to_csv('dummy_c_ar.txt', index=False)"
   ]
  },
  {
   "cell_type": "code",
   "execution_count": null,
   "id": "cbd51e3e",
   "metadata": {
    "papermill": {
     "duration": null,
     "end_time": null,
     "exception": null,
     "start_time": null,
     "status": "pending"
    },
    "tags": []
   },
   "outputs": [],
   "source": []
  }
 ],
 "metadata": {
  "kernelspec": {
   "display_name": "Python 3",
   "language": "python",
   "name": "python3"
  },
  "language_info": {
   "codemirror_mode": {
    "name": "ipython",
    "version": 3
   },
   "file_extension": ".py",
   "mimetype": "text/x-python",
   "name": "python",
   "nbconvert_exporter": "python",
   "pygments_lexer": "ipython3",
   "version": "3.7.12"
  },
  "papermill": {
   "default_parameters": {},
   "duration": 17.400607,
   "end_time": "2022-01-31T04:46:41.295212",
   "environment_variables": {},
   "exception": true,
   "input_path": "__notebook__.ipynb",
   "output_path": "__notebook__.ipynb",
   "parameters": {},
   "start_time": "2022-01-31T04:46:23.894605",
   "version": "2.3.3"
  }
 },
 "nbformat": 4,
 "nbformat_minor": 5
}
